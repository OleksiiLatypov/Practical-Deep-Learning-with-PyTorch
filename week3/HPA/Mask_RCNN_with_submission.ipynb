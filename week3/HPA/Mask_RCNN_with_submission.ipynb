{
  "cells": [
    {
      "cell_type": "markdown",
      "metadata": {
        "id": "view-in-github",
        "colab_type": "text"
      },
      "source": [
        "<a href=\"https://colab.research.google.com/github/OleksiiLatypov/Practical_Deep_Learning_with_PyTorch/blob/main/week3/HPA/Mask_RCNN_with_submission.ipynb\" target=\"_parent\"><img src=\"https://colab.research.google.com/assets/colab-badge.svg\" alt=\"Open In Colab\"/></a>"
      ]
    },
    {
      "source": [
        "\n",
        "# IMPORTANT: RUN THIS CELL IN ORDER TO IMPORT YOUR KAGGLE DATA SOURCES\n",
        "# TO THE CORRECT LOCATION (/kaggle/input) IN YOUR NOTEBOOK,\n",
        "# THEN FEEL FREE TO DELETE THIS CELL.\n",
        "# NOTE: THIS NOTEBOOK ENVIRONMENT DIFFERS FROM KAGGLE'S PYTHON\n",
        "# ENVIRONMENT SO THERE MAY BE MISSING LIBRARIES USED BY YOUR\n",
        "# NOTEBOOK.\n",
        "\n",
        "import os\n",
        "import sys\n",
        "from tempfile import NamedTemporaryFile\n",
        "from urllib.request import urlopen\n",
        "from urllib.parse import unquote, urlparse\n",
        "from urllib.error import HTTPError\n",
        "from zipfile import ZipFile\n",
        "import tarfile\n",
        "import shutil\n",
        "\n",
        "CHUNK_SIZE = 40960\n",
        "DATA_SOURCE_MAPPING = ':https%3A%2F%2Fstorage.googleapis.com%2Fkaggle-competitions-data%2Fkaggle-v2%2F10338%2F862042%2Fbundle%2Farchive.zip%3FX-Goog-Algorithm%3DGOOG4-RSA-SHA256%26X-Goog-Credential%3Dgcp-kaggle-com%2540kaggle-161607.iam.gserviceaccount.com%252F20240513%252Fauto%252Fstorage%252Fgoog4_request%26X-Goog-Date%3D20240513T205235Z%26X-Goog-Expires%3D259200%26X-Goog-SignedHeaders%3Dhost%26X-Goog-Signature%3D704043cc9982c35749d17c820a1f5e78a9d5f762e42fcf2b96b58cedb07553154da6c5e67e0bf1afa712878d9585b699bfc8aa6d24171072b0c7be85672bfc99c4fc9a9775a02a59fa98927a9cb0c80e0570da7c324e5ad38842b49758cbcb2781801c5fb59f940b4d2eb40d32ce53c96c98dd51b9b05a7e192c7712dd5b73328e39e0d256f29998536ff12339f1e661b0cee2bb1cc8a02145219176b9591f38bf205a8253dba654a45fa9a5ee82089cc8f864d20ce244e2b35e7f0bcdf8153b2479c24c20322f3a0a7b38f0ff0a4c6649f35d5cda8738dff9b3558d9045727dc1aca97a39b860a36de36761cbd354535ae38b20109f0a685fdb491e9f6a76ce'\n",
        "\n",
        "KAGGLE_INPUT_PATH='/kaggle/input'\n",
        "KAGGLE_WORKING_PATH='/kaggle/working'\n",
        "KAGGLE_SYMLINK='kaggle'\n",
        "\n",
        "!umount /kaggle/input/ 2> /dev/null\n",
        "shutil.rmtree('/kaggle/input', ignore_errors=True)\n",
        "os.makedirs(KAGGLE_INPUT_PATH, 0o777, exist_ok=True)\n",
        "os.makedirs(KAGGLE_WORKING_PATH, 0o777, exist_ok=True)\n",
        "\n",
        "try:\n",
        "  os.symlink(KAGGLE_INPUT_PATH, os.path.join(\"..\", 'input'), target_is_directory=True)\n",
        "except FileExistsError:\n",
        "  pass\n",
        "try:\n",
        "  os.symlink(KAGGLE_WORKING_PATH, os.path.join(\"..\", 'working'), target_is_directory=True)\n",
        "except FileExistsError:\n",
        "  pass\n",
        "\n",
        "for data_source_mapping in DATA_SOURCE_MAPPING.split(','):\n",
        "    directory, download_url_encoded = data_source_mapping.split(':')\n",
        "    download_url = unquote(download_url_encoded)\n",
        "    filename = urlparse(download_url).path\n",
        "    destination_path = os.path.join(KAGGLE_INPUT_PATH, directory)\n",
        "    try:\n",
        "        with urlopen(download_url) as fileres, NamedTemporaryFile() as tfile:\n",
        "            total_length = fileres.headers['content-length']\n",
        "            print(f'Downloading {directory}, {total_length} bytes compressed')\n",
        "            dl = 0\n",
        "            data = fileres.read(CHUNK_SIZE)\n",
        "            while len(data) > 0:\n",
        "                dl += len(data)\n",
        "                tfile.write(data)\n",
        "                done = int(50 * dl / int(total_length))\n",
        "                sys.stdout.write(f\"\\r[{'=' * done}{' ' * (50-done)}] {dl} bytes downloaded\")\n",
        "                sys.stdout.flush()\n",
        "                data = fileres.read(CHUNK_SIZE)\n",
        "            if filename.endswith('.zip'):\n",
        "              with ZipFile(tfile) as zfile:\n",
        "                zfile.extractall(destination_path)\n",
        "            else:\n",
        "              with tarfile.open(tfile.name) as tarfile:\n",
        "                tarfile.extractall(destination_path)\n",
        "            print(f'\\nDownloaded and uncompressed: {directory}')\n",
        "    except HTTPError as e:\n",
        "        print(f'Failed to load (likely expired) {download_url} to path {destination_path}')\n",
        "        continue\n",
        "    except OSError as e:\n",
        "        print(f'Failed to load {download_url} to path {destination_path}')\n",
        "        continue\n",
        "\n",
        "print('Data source import complete.')\n"
      ],
      "metadata": {
        "id": "K1CEehzLuo_c"
      },
      "cell_type": "code",
      "outputs": [],
      "execution_count": null
    },
    {
      "metadata": {
        "id": "KBeAf8WgaeSk",
        "_uuid": "7c1fce19a11f95416168ced03c2c70fa818b21a5"
      },
      "cell_type": "markdown",
      "source": [
        "**Mask-RCNN Sample Starter Model for the RSNA Pneumonia Detection Challenge**\n",
        "\n",
        "[MD.ai](https://www.md.ai). The dataset for this challenge, created on the MD.ai platform in collaboration with the Radiological Society of North America (RSNA), the Society of Thoracic Radiology (STR), the US National Institutes of Health (NIH), and Kaggle.\n",
        "This notebook covers the basics of parsing the competition dataset, training using a detector basd on the [Mask-RCNN algorithm](https://arxiv.org/abs/1703.06870) for object detection and instance segmentation.    \n",
        "**Note that the Mask-RCNN detector configuration parameters have been selected to reduce training time for demonstration purposes, they are not optimal.\n",
        "**\n",
        "\n",
        "This is based on our deep learning for medical imaging lessons:\n",
        "\n",
        "- Lesson 1. Classification of chest vs. adominal X-rays using TensorFlow/Keras [Github](https://github.com/mdai/ml-lessons/blob/master/lesson1-xray-images-classification.ipynb) [Annotator](https://public.md.ai/annotator/project/PVq9raBJ)\n",
        "- Lesson 2. Lung X-Rays Semantic Segmentation using UNets. [Github](https://github.com/mdai/ml-lessons/blob/master/lesson2-lung-xrays-segmentation.ipynb)\n",
        "[Annotator](https://public.md.ai/annotator/project/aGq4k6NW/workspace)\n",
        "- Lesson 3. RSNA Pneumonia detection using Kaggle data format [Github](https://github.com/mdai/ml-lessons/blob/master/lesson3-rsna-pneumonia-detection-kaggle.ipynb) [Annotator](https://public.md.ai/annotator/project/LxR6zdR2/workspace)\n",
        "- Lesson 3. RSNA Pneumonia detection using MD.ai python client library [Github](https://github.com/mdai/ml-lessons/blob/master/lesson3-rsna-pneumonia-detection-mdai-client-lib.ipynb) [Annotator](https://public.md.ai/annotator/project/LxR6zdR2/workspace)\n",
        "\n",
        "*Copyright 2018 MD.ai, Inc.   \n",
        "Licensed under the Apache License, Version 2.0*"
      ]
    },
    {
      "metadata": {
        "id": "4kjcC6QqywWl",
        "trusted": true,
        "_uuid": "40c67b3ff0fa04587dec508363308adaa3ceaf34"
      },
      "cell_type": "code",
      "source": [
        "import os\n",
        "import sys\n",
        "import random\n",
        "import math\n",
        "import numpy as np\n",
        "import cv2\n",
        "import matplotlib.pyplot as plt\n",
        "import json\n",
        "import pydicom\n",
        "from imgaug import augmenters as iaa\n",
        "from tqdm import tqdm\n",
        "import pandas as pd\n",
        "import glob"
      ],
      "execution_count": null,
      "outputs": []
    },
    {
      "metadata": {
        "id": "eCXdW8QfjB81",
        "_uuid": "94926f47a24cab23f8fe1423884cfb1c607d150a"
      },
      "cell_type": "markdown",
      "source": [
        "### First: Install Kaggle API for download competition data."
      ]
    },
    {
      "metadata": {
        "id": "yP0XLJx_x_6o",
        "trusted": true,
        "_uuid": "6e5764759e6a0a9b698b44645658f66873edd807"
      },
      "cell_type": "code",
      "source": [
        "DATA_DIR = '/kaggle/input'\n",
        "\n",
        "# Directory to save logs and trained model\n",
        "ROOT_DIR = '/kaggle/working'"
      ],
      "execution_count": null,
      "outputs": []
    },
    {
      "metadata": {
        "id": "KLTUyeTMTe4u",
        "_uuid": "5da6240cd31e4a99a6ad24d0d150aad333f83b5b"
      },
      "cell_type": "markdown",
      "source": [
        "###  MD.ai Annotator\n",
        "\n",
        "Additionally, If you are interested in augmenting the existing annotations, you can use the MD.ai annotator to view DICOM images, and create annotatios to be exported.  \n",
        "MD.ai annotator project URL for the Kaggle dataset: https://public.md.ai/annotator/project/LxR6zdR2/workspace\n",
        "\n",
        "**Annotator features**\n",
        "- The annotator can be used to view DICOM images and create image and exam level annotations.\n",
        "- You can apply the annotator to filter by label, adjudicate annotations, and assign annotation tasks to your team.\n",
        "- Notebooks can be built directly within the annotator for rapid model development.\n",
        "- The data wrangling is abstracted away by the interface and by our MD.ai library.\n",
        "- Simplifies image annotation in order to widen the participation in the futrue of medical image deep learning.\n",
        "\n",
        "The annotator allows you to create initial annotations, build and run models, modify/finetune the annotations based on predicted values, and repeat.  \n",
        "The MD.ai python client library implements functions to easily download images and annotations and to prepare the datasets used to train the model for classification. See the following example notebook for parsing annotations and training using MD.ai annotator:\n",
        "https://github.com/mdai/ml-lessons/blob/master/lesson3-rsna-pneumonia-detection-mdai-client-lib.ipynb  \n",
        "- MD.ai URL: https://www.md.ai  \n",
        "- MD.ai documentation URL: https://docs.md.ai/"
      ]
    },
    {
      "metadata": {
        "id": "kdYzLq1zfKL4",
        "_uuid": "576df4c47a23d08b1bdb384245e09aa69f88bbd3"
      },
      "cell_type": "markdown",
      "source": [
        "### Install Matterport's Mask-RCNN model from github.\n",
        "See the [Matterport's implementation of Mask-RCNN](https://github.com/matterport/Mask_RCNN)."
      ]
    },
    {
      "metadata": {
        "id": "KgllzLnDr7kF",
        "trusted": true,
        "_uuid": "b37d22551d332f0f7b722cc7204eb614524b6c21"
      },
      "cell_type": "code",
      "source": [
        "!git clone https://www.github.com/matterport/Mask_RCNN.git\n",
        "os.chdir('Mask_RCNN')\n",
        "#!python setup.py -q install"
      ],
      "execution_count": null,
      "outputs": []
    },
    {
      "metadata": {
        "id": "-KZXyWwhzOVU",
        "trusted": true,
        "_uuid": "3acbbbe055b6a409d3c50ae0f893acf51b5ae7ba"
      },
      "cell_type": "code",
      "source": [
        "# Import Mask RCNN\n",
        "sys.path.append(os.path.join(ROOT_DIR, 'Mask_RCNN'))  # To find local version of the library\n",
        "from mrcnn.config import Config\n",
        "from mrcnn import utils\n",
        "import mrcnn.model as modellib\n",
        "from mrcnn import visualize\n",
        "from mrcnn.model import log"
      ],
      "execution_count": null,
      "outputs": []
    },
    {
      "metadata": {
        "id": "FghMmiMjzOX2",
        "trusted": true,
        "_uuid": "50089cc61791871cdf6a5c0037dc4f28b7b7d7cc"
      },
      "cell_type": "code",
      "source": [
        "train_dicom_dir = os.path.join(DATA_DIR, 'stage_1_train_images')\n",
        "test_dicom_dir = os.path.join(DATA_DIR, 'stage_1_test_images')"
      ],
      "execution_count": null,
      "outputs": []
    },
    {
      "metadata": {
        "id": "gj-tvDvEaDiC",
        "_uuid": "032cc5fe4baa051108106675e6ca4f4fdb2846ed"
      },
      "cell_type": "markdown",
      "source": [
        "### Some setup functions and classes for Mask-RCNN\n",
        "\n",
        "- dicom_fps is a list of the dicom image path and filenames\n",
        "- image_annotions is a dictionary of the annotations keyed by the filenames\n",
        "- parsing the dataset returns a list of the image filenames and the annotations dictionary"
      ]
    },
    {
      "metadata": {
        "id": "ivqC4cnszOaM",
        "trusted": true,
        "_uuid": "778cb19865d7cc63440491aef9202b71c61e8bb2"
      },
      "cell_type": "code",
      "source": [
        "def get_dicom_fps(dicom_dir):\n",
        "    dicom_fps = glob.glob(dicom_dir+'/'+'*.dcm')\n",
        "    return list(set(dicom_fps))\n",
        "\n",
        "def parse_dataset(dicom_dir, anns):\n",
        "    image_fps = get_dicom_fps(dicom_dir)\n",
        "    image_annotations = {fp: [] for fp in image_fps}\n",
        "    for index, row in anns.iterrows():\n",
        "        fp = os.path.join(dicom_dir, row['patientId']+'.dcm')\n",
        "        image_annotations[fp].append(row)\n",
        "    return image_fps, image_annotations"
      ],
      "execution_count": null,
      "outputs": []
    },
    {
      "metadata": {
        "id": "_SfzTa-1zOck",
        "trusted": true,
        "_uuid": "dfcffc4eaa94a41497717851dee9f702d8a2a73b"
      },
      "cell_type": "code",
      "source": [
        "# The following parameters have been selected to reduce running time for demonstration purposes\n",
        "# These are not optimal\n",
        "\n",
        "class DetectorConfig(Config):\n",
        "    \"\"\"Configuration for training pneumonia detection on the RSNA pneumonia dataset.\n",
        "    Overrides values in the base Config class.\n",
        "    \"\"\"\n",
        "\n",
        "    # Give the configuration a recognizable name\n",
        "    NAME = 'pneumonia'\n",
        "\n",
        "    # Train on 1 GPU and 8 images per GPU. We can put multiple images on each\n",
        "    # GPU because the images are small. Batch size is 8 (GPUs * images/GPU).\n",
        "    GPU_COUNT = 1\n",
        "    IMAGES_PER_GPU = 8\n",
        "\n",
        "    BACKBONE = 'resnet50'\n",
        "\n",
        "    NUM_CLASSES = 2  # background + 1 pneumonia classes\n",
        "\n",
        "    IMAGE_MIN_DIM = 256\n",
        "    IMAGE_MAX_DIM = 256\n",
        "    RPN_ANCHOR_SCALES = (32, 64, 128, 256)\n",
        "    TRAIN_ROIS_PER_IMAGE = 32\n",
        "    MAX_GT_INSTANCES = 3\n",
        "    DETECTION_MAX_INSTANCES = 3\n",
        "    DETECTION_MIN_CONFIDENCE = 0.7\n",
        "    DETECTION_NMS_THRESHOLD = 0.1\n",
        "\n",
        "    STEPS_PER_EPOCH = 200\n",
        "\n",
        "config = DetectorConfig()\n",
        "config.display()"
      ],
      "execution_count": null,
      "outputs": []
    },
    {
      "metadata": {
        "id": "8EBVA1M60yAj",
        "trusted": true,
        "_uuid": "52bd3ffbdde0173a363055482d675da51c2aba99"
      },
      "cell_type": "code",
      "source": [
        "class DetectorDataset(utils.Dataset):\n",
        "    \"\"\"Dataset class for training pneumonia detection on the RSNA pneumonia dataset.\n",
        "    \"\"\"\n",
        "\n",
        "    def __init__(self, image_fps, image_annotations, orig_height, orig_width):\n",
        "        super().__init__(self)\n",
        "\n",
        "        # Add classes\n",
        "        self.add_class('pneumonia', 1, 'Lung Opacity')\n",
        "\n",
        "        # add images\n",
        "        for i, fp in enumerate(image_fps):\n",
        "            annotations = image_annotations[fp]\n",
        "            self.add_image('pneumonia', image_id=i, path=fp,\n",
        "                           annotations=annotations, orig_height=orig_height, orig_width=orig_width)\n",
        "\n",
        "    def image_reference(self, image_id):\n",
        "        info = self.image_info[image_id]\n",
        "        return info['path']\n",
        "\n",
        "    def load_image(self, image_id):\n",
        "        info = self.image_info[image_id]\n",
        "        fp = info['path']\n",
        "        ds = pydicom.read_file(fp)\n",
        "        image = ds.pixel_array\n",
        "        # If grayscale. Convert to RGB for consistency.\n",
        "        if len(image.shape) != 3 or image.shape[2] != 3:\n",
        "            image = np.stack((image,) * 3, -1)\n",
        "        return image\n",
        "\n",
        "    def load_mask(self, image_id):\n",
        "        info = self.image_info[image_id]\n",
        "        annotations = info['annotations']\n",
        "        count = len(annotations)\n",
        "        if count == 0:\n",
        "            mask = np.zeros((info['orig_height'], info['orig_width'], 1), dtype=np.uint8)\n",
        "            class_ids = np.zeros((1,), dtype=np.int32)\n",
        "        else:\n",
        "            mask = np.zeros((info['orig_height'], info['orig_width'], count), dtype=np.uint8)\n",
        "            class_ids = np.zeros((count,), dtype=np.int32)\n",
        "            for i, a in enumerate(annotations):\n",
        "                if a['Target'] == 1:\n",
        "                    x = int(a['x'])\n",
        "                    y = int(a['y'])\n",
        "                    w = int(a['width'])\n",
        "                    h = int(a['height'])\n",
        "                    mask_instance = mask[:, :, i].copy()\n",
        "                    cv2.rectangle(mask_instance, (x, y), (x+w, y+h), 255, -1)\n",
        "                    mask[:, :, i] = mask_instance\n",
        "                    class_ids[i] = 1\n",
        "        return mask.astype(np.bool), class_ids.astype(np.int32)"
      ],
      "execution_count": null,
      "outputs": []
    },
    {
      "metadata": {
        "id": "9RlMo04ckd98",
        "_uuid": "1cb852e262b69d348743767d675573368ab672c9"
      },
      "cell_type": "markdown",
      "source": [
        "### Examine the annotation data, parse the dataset, and view dicom fields"
      ]
    },
    {
      "metadata": {
        "id": "EdhUEFDr0yDA",
        "trusted": true,
        "_uuid": "793b1c6c6ba4e5f0d51e130080aa799f230b5ef6"
      },
      "cell_type": "code",
      "source": [
        "# training dataset\n",
        "anns = pd.read_csv(os.path.join(DATA_DIR, 'stage_1_train_labels.csv'))\n",
        "anns.head()"
      ],
      "execution_count": null,
      "outputs": []
    },
    {
      "metadata": {
        "id": "Mxz-pNbt5txY",
        "trusted": true,
        "_uuid": "7aebc88f910b232e3b8759421914a007c6ffed94"
      },
      "cell_type": "code",
      "source": [
        "image_fps, image_annotations = parse_dataset(train_dicom_dir, anns=anns)"
      ],
      "execution_count": null,
      "outputs": []
    },
    {
      "metadata": {
        "id": "YPqjEIXWRhSf",
        "trusted": true,
        "_uuid": "6c386dcef041b972f6209dd19e247d547c3c349f"
      },
      "cell_type": "code",
      "source": [
        "ds = pydicom.read_file(image_fps[0]) # read dicom image from filepath\n",
        "image = ds.pixel_array # get image array"
      ],
      "execution_count": null,
      "outputs": []
    },
    {
      "metadata": {
        "id": "81lovwF2Ro5R",
        "trusted": true,
        "_uuid": "0ef68a41cf1a5e842e86a219b6392e3695004720"
      },
      "cell_type": "code",
      "source": [
        "# show dicom fields\n",
        "ds"
      ],
      "execution_count": null,
      "outputs": []
    },
    {
      "metadata": {
        "id": "gYNSd1AhRqOV",
        "trusted": true,
        "_uuid": "74277ae9af4a3b044e62b664d10d76b23848bb43"
      },
      "cell_type": "code",
      "source": [
        "# Original DICOM image size: 1024 x 1024\n",
        "ORIG_SIZE = 1024"
      ],
      "execution_count": null,
      "outputs": []
    },
    {
      "metadata": {
        "id": "4FlRu8ML-ceg",
        "_uuid": "6563bbca143e4bceb1ea850714d7b43bb1e1178d"
      },
      "cell_type": "markdown",
      "source": [
        "### Split the data into training and validation datasets"
      ]
    },
    {
      "metadata": {
        "id": "7jByVCZt-ZOC",
        "trusted": true,
        "_uuid": "6175c72e73639e3190e127f67783988eadced9ba"
      },
      "cell_type": "code",
      "source": [
        "# split dataset into training vs. validation dataset\n",
        "image_fps_list = list(image_fps)\n",
        "random.seed(42)\n",
        "random.shuffle(image_fps_list)\n",
        "\n",
        "val_size = 1500\n",
        "image_fps_val = image_fps_list[:val_size]\n",
        "image_fps_train = image_fps_list[val_size:]\n",
        "\n",
        "print(len(image_fps_train), len(image_fps_val))"
      ],
      "execution_count": null,
      "outputs": []
    },
    {
      "metadata": {
        "id": "9KUvacUbgiEX",
        "_uuid": "a5143c19dc22bc00d318a3b28cb7e13c7fbacc8a"
      },
      "cell_type": "markdown",
      "source": [
        "### Create and prepare the training dataset using the DetectorDataset class."
      ]
    },
    {
      "metadata": {
        "id": "jwMkhotP0yFf",
        "trusted": true,
        "_uuid": "86c3333d4dfb8b7d00ce1f401693d0df4e6254e1"
      },
      "cell_type": "code",
      "source": [
        "# prepare the training dataset\n",
        "dataset_train = DetectorDataset(image_fps_train, image_annotations, ORIG_SIZE, ORIG_SIZE)\n",
        "dataset_train.prepare()"
      ],
      "execution_count": null,
      "outputs": []
    },
    {
      "metadata": {
        "id": "wPDQ9EVDgxa6",
        "_uuid": "4f69286e6b0b640827a3de166326d157a6d86668"
      },
      "cell_type": "markdown",
      "source": [
        "### Let's look at a sample annotation. We see a bounding box with (x, y) of the the top left corner as well as the width and height."
      ]
    },
    {
      "metadata": {
        "id": "0xEc47Jz59x5",
        "trusted": true,
        "_uuid": "93da5a58731ad483a4bd2b20543f2b1df4b8ad74"
      },
      "cell_type": "code",
      "source": [
        "# Show annotation(s) for a DICOM image\n",
        "test_fp = random.choice(image_fps_train)\n",
        "image_annotations[test_fp]"
      ],
      "execution_count": null,
      "outputs": []
    },
    {
      "metadata": {
        "id": "K1TkWuGP0yHl",
        "trusted": true,
        "_uuid": "313347d838fa8321a714858c8073f98c50c5be26"
      },
      "cell_type": "code",
      "source": [
        "# prepare the validation dataset\n",
        "dataset_val = DetectorDataset(image_fps_val, image_annotations, ORIG_SIZE, ORIG_SIZE)\n",
        "dataset_val.prepare()"
      ],
      "execution_count": null,
      "outputs": []
    },
    {
      "metadata": {
        "id": "pEXEt8fygWuC",
        "_uuid": "600a8135d4e382f62797d69e9358f5697873c8f9"
      },
      "cell_type": "markdown",
      "source": [
        "### Display a random image with bounding boxes"
      ]
    },
    {
      "metadata": {
        "id": "4xwsrf9G1lHR",
        "trusted": true,
        "_uuid": "491b78ec96d28fcdbbf8e2d7f9320a05d64c9249"
      },
      "cell_type": "code",
      "source": [
        "# Load and display random sample and their bounding boxes\n",
        "\n",
        "class_ids = [0]\n",
        "while class_ids[0] == 0:  ## look for a mask\n",
        "    image_id = random.choice(dataset_train.image_ids)\n",
        "    image_fp = dataset_train.image_reference(image_id)\n",
        "    image = dataset_train.load_image(image_id)\n",
        "    mask, class_ids = dataset_train.load_mask(image_id)\n",
        "\n",
        "print(image.shape)\n",
        "\n",
        "plt.figure(figsize=(10, 10))\n",
        "plt.subplot(1, 2, 1)\n",
        "plt.imshow(image)\n",
        "plt.axis('off')\n",
        "\n",
        "plt.subplot(1, 2, 2)\n",
        "masked = np.zeros(image.shape[:2])\n",
        "for i in range(mask.shape[2]):\n",
        "    masked += image[:, :, 0] * mask[:, :, i]\n",
        "plt.imshow(masked, cmap='gray')\n",
        "plt.axis('off')\n",
        "\n",
        "print(image_fp)\n",
        "print(class_ids)"
      ],
      "execution_count": null,
      "outputs": []
    },
    {
      "metadata": {
        "id": "ustAIH78hZI_",
        "_uuid": "342b6008873fe7a6a0870a712ee47a87f0d2828d"
      },
      "cell_type": "markdown",
      "source": [
        "### Image Augmentation. Try finetuning some variables to custom values"
      ]
    },
    {
      "metadata": {
        "id": "STZnQTE61lME",
        "trusted": true,
        "_uuid": "4ab9d6086ce611a46f189c047956c43b29783e6d"
      },
      "cell_type": "code",
      "source": [
        "# Image augmentation (light but constant)\n",
        "augmentation = iaa.Sequential([\n",
        "    iaa.OneOf([ ## geometric transform\n",
        "        iaa.Affine(\n",
        "            scale={\"x\": (0.98, 1.04), \"y\": (0.98, 1.04)},\n",
        "            translate_percent={\"x\": (-0.03, 0.03), \"y\": (-0.05, 0.05)},\n",
        "            rotate=(-5, 5),\n",
        "            shear=(-3, 3),\n",
        "        ),\n",
        "        iaa.PiecewiseAffine(scale=(0.002, 0.03)),\n",
        "    ]),\n",
        "    iaa.OneOf([ ## brightness or contrast\n",
        "        iaa.Multiply((0.85, 1.15)),\n",
        "        iaa.ContrastNormalization((0.85, 1.15)),\n",
        "    ]),\n",
        "    iaa.OneOf([ ## blur or sharpen\n",
        "        iaa.GaussianBlur(sigma=(0.0, 0.12)),\n",
        "        iaa.Sharpen(alpha=(0.0, 0.12)),\n",
        "    ]),\n",
        "])\n",
        "\n",
        "# test on the same image as above\n",
        "imggrid = augmentation.draw_grid(image[:, :, 0], cols=5, rows=2)\n",
        "plt.figure(figsize=(30, 12))\n",
        "_ = plt.imshow(imggrid[:, :, 0], cmap='gray')"
      ],
      "execution_count": null,
      "outputs": []
    },
    {
      "metadata": {
        "id": "M4kt7LKuc78e",
        "_uuid": "7e65d2cecb283f446f34cdde19b663a8a8e9590f"
      },
      "cell_type": "markdown",
      "source": [
        "### Now it's time to train the model. Note that training even a basic model can take a few hours.\n",
        "\n",
        "Note: the following model is for demonstration purpose only. We have limited the training to one epoch, and have set nominal values for the Detector Configuration to reduce run-time.\n",
        "\n",
        "- dataset_train and dataset_val are derived from DetectorDataset\n",
        "- DetectorDataset loads images from image filenames and  masks from the annotation data\n",
        "- model is Mask-RCNN"
      ]
    },
    {
      "metadata": {
        "trusted": true,
        "_uuid": "8cdf42bce37bb614192da12420e1c6efd317322c",
        "id": "PJyFZGDyuo_h"
      },
      "cell_type": "code",
      "source": [
        "model = modellib.MaskRCNN(mode='training', config=config, model_dir=ROOT_DIR)"
      ],
      "execution_count": null,
      "outputs": []
    },
    {
      "metadata": {
        "id": "RVgNhHjl1lOS",
        "trusted": true,
        "_uuid": "64cce2581ffdb8c2b1cb07948ada4a93f64874b0"
      },
      "cell_type": "code",
      "source": [
        "NUM_EPOCHS = 16\n",
        "LEARNING_RATE = 0.006\n",
        "\n",
        "# Train Mask-RCNN Model\n",
        "import warnings\n",
        "warnings.filterwarnings(\"ignore\")"
      ],
      "execution_count": null,
      "outputs": []
    },
    {
      "metadata": {
        "trusted": true,
        "_uuid": "cf339a499519d174bcdf2311a1802f0e3acb1758",
        "id": "YzU0zBmnuo_h"
      },
      "cell_type": "code",
      "source": [
        "%%time\n",
        "## first epochs with higher lr to speedup the learning\n",
        "model.train(dataset_train, dataset_val,\n",
        "            learning_rate=LEARNING_RATE*2,\n",
        "            epochs=2,\n",
        "            layers='all',\n",
        "            augmentation=None)  ## no need to augment yet"
      ],
      "execution_count": null,
      "outputs": []
    },
    {
      "metadata": {
        "trusted": true,
        "_uuid": "8004790d27f041793562e994bbe95edf67f8978b",
        "id": "U_mU7iZJuo_h"
      },
      "cell_type": "code",
      "source": [
        "%%time\n",
        "model.train(dataset_train, dataset_val,\n",
        "            learning_rate=LEARNING_RATE,\n",
        "            epochs=NUM_EPOCHS,\n",
        "            layers='all',\n",
        "            augmentation=augmentation)"
      ],
      "execution_count": null,
      "outputs": []
    },
    {
      "metadata": {
        "id": "eraRlzgPmmIZ",
        "trusted": true,
        "_uuid": "db5c10d3f7da099e5751a04a6e6d49819882ecd4"
      },
      "cell_type": "code",
      "source": [
        "# select trained model\n",
        "dir_names = next(os.walk(model.model_dir))[1]\n",
        "key = config.NAME.lower()\n",
        "dir_names = filter(lambda f: f.startswith(key), dir_names)\n",
        "dir_names = sorted(dir_names)\n",
        "\n",
        "if not dir_names:\n",
        "    import errno\n",
        "    raise FileNotFoundError(\n",
        "        errno.ENOENT,\n",
        "        \"Could not find model directory under {}\".format(self.model_dir))\n",
        "\n",
        "fps = []\n",
        "# Pick last directory\n",
        "for d in dir_names:\n",
        "    dir_name = os.path.join(model.model_dir, d)\n",
        "    # Find the last checkpoint\n",
        "    checkpoints = next(os.walk(dir_name))[2]\n",
        "    checkpoints = filter(lambda f: f.startswith(\"mask_rcnn\"), checkpoints)\n",
        "    checkpoints = sorted(checkpoints)\n",
        "    if not checkpoints:\n",
        "        print('No weight files in {}'.format(dir_name))\n",
        "    else:\n",
        "        checkpoint = os.path.join(dir_name, checkpoints[-1])\n",
        "        fps.append(checkpoint)\n",
        "\n",
        "model_path = sorted(fps)[-1]\n",
        "print('Found model {}'.format(model_path))"
      ],
      "execution_count": null,
      "outputs": []
    },
    {
      "metadata": {
        "id": "TgpT9AzC2Bgz",
        "trusted": true,
        "_uuid": "52138636b2ae5bf444bba808518cd8313bde65cd"
      },
      "cell_type": "code",
      "source": [
        "class InferenceConfig(DetectorConfig):\n",
        "    GPU_COUNT = 1\n",
        "    IMAGES_PER_GPU = 1\n",
        "\n",
        "inference_config = InferenceConfig()\n",
        "\n",
        "# Recreate the model in inference mode\n",
        "model = modellib.MaskRCNN(mode='inference',\n",
        "                          config=inference_config,\n",
        "                          model_dir=ROOT_DIR)\n",
        "\n",
        "# Load trained weights (fill in path to trained weights here)\n",
        "assert model_path != \"\", \"Provide path to trained weights\"\n",
        "print(\"Loading weights from \", model_path)\n",
        "model.load_weights(model_path, by_name=True)"
      ],
      "execution_count": null,
      "outputs": []
    },
    {
      "metadata": {
        "id": "9mTBig7D2BjU",
        "trusted": true,
        "_uuid": "e13c61bee23b791c61ecf1256f7512295cd4d9ab"
      },
      "cell_type": "code",
      "source": [
        "# set color for class\n",
        "def get_colors_for_class_ids(class_ids):\n",
        "    colors = []\n",
        "    for class_id in class_ids:\n",
        "        if class_id == 1:\n",
        "            colors.append((.941, .204, .204))\n",
        "    return colors"
      ],
      "execution_count": null,
      "outputs": []
    },
    {
      "metadata": {
        "id": "A8EiL2LOiCr_",
        "_uuid": "f99fbd3f31ff1a2bd66764835c9b646375364598"
      },
      "cell_type": "markdown",
      "source": [
        "### How does the predicted box compared to the expected value? Let's use the validation dataset to check.\n",
        "\n",
        "Note that we trained only one epoch for **demonstration purposes ONLY**. You might be able to improve performance running more epochs."
      ]
    },
    {
      "metadata": {
        "id": "irheTbrW2Bl0",
        "trusted": true,
        "_uuid": "186412199e25b98719f71cfe5e8869abcce516c4"
      },
      "cell_type": "code",
      "source": [
        "# Show few example of ground truth vs. predictions on the validation dataset\n",
        "dataset = dataset_val\n",
        "fig = plt.figure(figsize=(10, 30))\n",
        "\n",
        "for i in range(6):\n",
        "    image_id = random.choice(dataset.image_ids)\n",
        "\n",
        "    original_image, image_meta, gt_class_id, gt_bbox, gt_mask = \\\n",
        "        modellib.load_image_gt(dataset_val, inference_config,\n",
        "                               image_id, use_mini_mask=False)\n",
        "\n",
        "    print(original_image.shape)\n",
        "    plt.subplot(6, 2, 2*i + 1)\n",
        "    visualize.display_instances(original_image, gt_bbox, gt_mask, gt_class_id,\n",
        "                                dataset.class_names,\n",
        "                                colors=get_colors_for_class_ids(gt_class_id), ax=fig.axes[-1])\n",
        "\n",
        "    plt.subplot(6, 2, 2*i + 2)\n",
        "    results = model.detect([original_image]) #, verbose=1)\n",
        "    r = results[0]\n",
        "    visualize.display_instances(original_image, r['rois'], r['masks'], r['class_ids'],\n",
        "                                dataset.class_names, r['scores'],\n",
        "                                colors=get_colors_for_class_ids(r['class_ids']), ax=fig.axes[-1])\n",
        ""
      ],
      "execution_count": null,
      "outputs": []
    },
    {
      "metadata": {
        "id": "qRWBVJKYNdWM",
        "trusted": true,
        "_uuid": "fd9f53fa319a425693e07fe4898ddeeaa5d07f99"
      },
      "cell_type": "code",
      "source": [
        "# Get filenames of test dataset DICOM images\n",
        "test_image_fps = get_dicom_fps(test_dicom_dir)"
      ],
      "execution_count": null,
      "outputs": []
    },
    {
      "metadata": {
        "id": "WcV1cL_aiSc4",
        "_uuid": "164e18701a830bc6c42a791feea13549de37289b"
      },
      "cell_type": "markdown",
      "source": [
        "### Final steps - Create the submission file"
      ]
    },
    {
      "metadata": {
        "id": "C6UWVrbM2Bob",
        "trusted": true,
        "_uuid": "4a5c0c6134408ddbf5a34496d7e9d7be5692e9a1"
      },
      "cell_type": "code",
      "source": [
        "# Make predictions on test images, write out sample submission\n",
        "def predict(image_fps, filepath='submission.csv', min_conf=0.98):\n",
        "    # assume square image\n",
        "    resize_factor = ORIG_SIZE / config.IMAGE_SHAPE[0]\n",
        "    #resize_factor = ORIG_SIZE\n",
        "    with open(filepath, 'w') as file:\n",
        "        file.write(\"patientId,PredictionString\\n\")\n",
        "\n",
        "        for image_id in tqdm(image_fps):\n",
        "            ds = pydicom.read_file(image_id)\n",
        "            image = ds.pixel_array\n",
        "            # If grayscale. Convert to RGB for consistency.\n",
        "            if len(image.shape) != 3 or image.shape[2] != 3:\n",
        "                image = np.stack((image,) * 3, -1)\n",
        "            image, window, scale, padding, crop = utils.resize_image(\n",
        "                image,\n",
        "                min_dim=config.IMAGE_MIN_DIM,\n",
        "                min_scale=config.IMAGE_MIN_SCALE,\n",
        "                max_dim=config.IMAGE_MAX_DIM,\n",
        "                mode=config.IMAGE_RESIZE_MODE)\n",
        "\n",
        "            patient_id = os.path.splitext(os.path.basename(image_id))[0]\n",
        "\n",
        "            results = model.detect([image])\n",
        "            r = results[0]\n",
        "\n",
        "            out_str = \"\"\n",
        "            out_str += patient_id\n",
        "            out_str += \",\"\n",
        "            assert( len(r['rois']) == len(r['class_ids']) == len(r['scores']) )\n",
        "            if len(r['rois']) == 0:\n",
        "                pass\n",
        "            else:\n",
        "                num_instances = len(r['rois'])\n",
        "\n",
        "                for i in range(num_instances):\n",
        "                    if r['scores'][i] > min_conf:\n",
        "                        out_str += ' '\n",
        "                        out_str += str(round(r['scores'][i], 2))\n",
        "                        out_str += ' '\n",
        "\n",
        "                        # x1, y1, width, height\n",
        "                        x1 = r['rois'][i][1]\n",
        "                        y1 = r['rois'][i][0]\n",
        "                        width = r['rois'][i][3] - x1\n",
        "                        height = r['rois'][i][2] - y1\n",
        "                        bboxes_str = \"{} {} {} {}\".format(x1*resize_factor, y1*resize_factor, \\\n",
        "                                                           width*resize_factor, height*resize_factor)\n",
        "                        out_str += bboxes_str\n",
        "\n",
        "            file.write(out_str+\"\\n\")"
      ],
      "execution_count": null,
      "outputs": []
    },
    {
      "metadata": {
        "id": "C5cBpNka2Bsv",
        "trusted": true,
        "_uuid": "0406e7f5aaa4867782c4f9c064f90bba386128e7"
      },
      "cell_type": "code",
      "source": [
        "submission_fp = os.path.join(ROOT_DIR, 'submission.csv')\n",
        "predict(test_image_fps, filepath=submission_fp)\n",
        "print(submission_fp)"
      ],
      "execution_count": null,
      "outputs": []
    },
    {
      "metadata": {
        "id": "_BjPE_Ee9rbA",
        "trusted": true,
        "_uuid": "3fd8d178fc51ef0bca94fbb3f423160f08a77edc"
      },
      "cell_type": "code",
      "source": [
        "output = pd.read_csv(submission_fp, names=['patientId', 'PredictionString'])\n",
        "output.head(60)"
      ],
      "execution_count": null,
      "outputs": []
    },
    {
      "metadata": {
        "trusted": true,
        "_uuid": "ea110f197abc2acb1c3435383f7259079dc0eb0e",
        "id": "18LRB-Cmuo_k"
      },
      "cell_type": "code",
      "source": [
        "# show a few test image detection example\n",
        "def visualize():\n",
        "    image_id = random.choice(test_image_fps)\n",
        "    ds = pydicom.read_file(image_id)\n",
        "\n",
        "    # original image\n",
        "    image = ds.pixel_array\n",
        "\n",
        "    # assume square image\n",
        "    resize_factor = ORIG_SIZE / config.IMAGE_SHAPE[0]\n",
        "\n",
        "    # If grayscale. Convert to RGB for consistency.\n",
        "    if len(image.shape) != 3 or image.shape[2] != 3:\n",
        "        image = np.stack((image,) * 3, -1)\n",
        "    resized_image, window, scale, padding, crop = utils.resize_image(\n",
        "        image,\n",
        "        min_dim=config.IMAGE_MIN_DIM,\n",
        "        min_scale=config.IMAGE_MIN_SCALE,\n",
        "        max_dim=config.IMAGE_MAX_DIM,\n",
        "        mode=config.IMAGE_RESIZE_MODE)\n",
        "\n",
        "    patient_id = os.path.splitext(os.path.basename(image_id))[0]\n",
        "    print(patient_id)\n",
        "\n",
        "    results = model.detect([resized_image])\n",
        "    r = results[0]\n",
        "    for bbox in r['rois']:\n",
        "        print(bbox)\n",
        "        x1 = int(bbox[1] * resize_factor)\n",
        "        y1 = int(bbox[0] * resize_factor)\n",
        "        x2 = int(bbox[3] * resize_factor)\n",
        "        y2 = int(bbox[2]  * resize_factor)\n",
        "        cv2.rectangle(image, (x1,y1), (x2,y2), (77, 255, 9), 3, 1)\n",
        "        width = x2 - x1\n",
        "        height = y2 - y1\n",
        "        print(\"x {} y {} h {} w {}\".format(x1, y1, width, height))\n",
        "    plt.figure()\n",
        "    plt.imshow(image, cmap=plt.cm.gist_gray)\n",
        "\n",
        "visualize()\n",
        "visualize()\n",
        "visualize()\n",
        "visualize()"
      ],
      "execution_count": null,
      "outputs": []
    },
    {
      "metadata": {
        "trusted": true,
        "_uuid": "835a15c9d018acd5deb16e9e02f9b765f68d0e78",
        "id": "LnX2Paa6uo_k"
      },
      "cell_type": "code",
      "source": [
        "# remove files to allow committing (hit files limit otherwise)\n",
        "!rm -rf /kaggle/working/Mask_RCNN"
      ],
      "execution_count": null,
      "outputs": []
    }
  ],
  "metadata": {
    "colab": {
      "provenance": [],
      "name": "Mask-RCNN with submission",
      "include_colab_link": true
    },
    "kernelspec": {
      "display_name": "Python 3",
      "language": "python",
      "name": "python3"
    },
    "accelerator": "GPU",
    "language_info": {
      "name": "python",
      "version": "3.6.6",
      "mimetype": "text/x-python",
      "codemirror_mode": {
        "name": "ipython",
        "version": 3
      },
      "pygments_lexer": "ipython3",
      "nbconvert_exporter": "python",
      "file_extension": ".py"
    }
  },
  "nbformat": 4,
  "nbformat_minor": 0
}