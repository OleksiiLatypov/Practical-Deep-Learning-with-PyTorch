{
  "metadata": {
    "kernelspec": {
      "language": "python",
      "display_name": "Python 3",
      "name": "python3"
    },
    "language_info": {
      "name": "python",
      "version": "3.10.13",
      "mimetype": "text/x-python",
      "codemirror_mode": {
        "name": "ipython",
        "version": 3
      },
      "pygments_lexer": "ipython3",
      "nbconvert_exporter": "python",
      "file_extension": ".py"
    },
    "kaggle": {
      "accelerator": "none",
      "dataSources": [
        {
          "sourceId": 8220,
          "databundleVersionId": 44216,
          "sourceType": "competition"
        }
      ],
      "dockerImageVersionId": 30698,
      "isInternetEnabled": true,
      "language": "python",
      "sourceType": "notebook",
      "isGpuEnabled": false
    },
    "colab": {
      "name": "materialist_furniture",
      "provenance": [],
      "include_colab_link": true
    }
  },
  "nbformat_minor": 0,
  "nbformat": 4,
  "cells": [
    {
      "cell_type": "markdown",
      "metadata": {
        "id": "view-in-github",
        "colab_type": "text"
      },
      "source": [
        "<a href=\"https://colab.research.google.com/github/OleksiiLatypov/Practical_Deep_Learning_with_PyTorch/blob/main/week3/materialist_furniture.ipynb\" target=\"_parent\"><img src=\"https://colab.research.google.com/assets/colab-badge.svg\" alt=\"Open In Colab\"/></a>"
      ]
    },
    {
      "source": [
        "\n",
        "# IMPORTANT: RUN THIS CELL IN ORDER TO IMPORT YOUR KAGGLE DATA SOURCES\n",
        "# TO THE CORRECT LOCATION (/kaggle/input) IN YOUR NOTEBOOK,\n",
        "# THEN FEEL FREE TO DELETE THIS CELL.\n",
        "# NOTE: THIS NOTEBOOK ENVIRONMENT DIFFERS FROM KAGGLE'S PYTHON\n",
        "# ENVIRONMENT SO THERE MAY BE MISSING LIBRARIES USED BY YOUR\n",
        "# NOTEBOOK.\n",
        "\n",
        "import os\n",
        "import sys\n",
        "from tempfile import NamedTemporaryFile\n",
        "from urllib.request import urlopen\n",
        "from urllib.parse import unquote, urlparse\n",
        "from urllib.error import HTTPError\n",
        "from zipfile import ZipFile\n",
        "import tarfile\n",
        "import shutil\n",
        "\n",
        "CHUNK_SIZE = 40960\n",
        "DATA_SOURCE_MAPPING = 'imaterialist-challenge-furniture-2018:https%3A%2F%2Fstorage.googleapis.com%2Fkaggle-competitions-data%2Fkaggle-v2%2F8220%2F44216%2Fbundle%2Farchive.zip%3FX-Goog-Algorithm%3DGOOG4-RSA-SHA256%26X-Goog-Credential%3Dgcp-kaggle-com%2540kaggle-161607.iam.gserviceaccount.com%252F20240509%252Fauto%252Fstorage%252Fgoog4_request%26X-Goog-Date%3D20240509T202118Z%26X-Goog-Expires%3D259200%26X-Goog-SignedHeaders%3Dhost%26X-Goog-Signature%3D6009eb825641852462a48c9adf726e1bcdf11f88f6ab4e5770659274b96b9461c31872f0e9bd82bb017c197423b32c2964dbd7bf15344aad20e39373137acd74ff004812059e4c2f111887af7b431287b48b4f4f80a3ae1ba929c1db5cb8da55d942fc98e3da366d46c6a8224ddba1a1c66afe2cd3adcbf9f6ee40b0b0cbdfaaa5e7d9ce0fd5da0322b3a7b693da66507cf94fcd42e9153b69f984ee855d686047b9ef84cb81b7c616ec0956fc72f63695a6a4a048d28404986057f769b26ee2ba01ec45c1d44a7b0819f28f216e289a90ba710741dfd404a30fcc18a827daa4782aed74c078992829e430f52d763411539e63de24e63ca80d7c9e5084f70c60'\n",
        "\n",
        "KAGGLE_INPUT_PATH='/kaggle/input'\n",
        "KAGGLE_WORKING_PATH='/kaggle/working'\n",
        "KAGGLE_SYMLINK='kaggle'\n",
        "\n",
        "!umount /kaggle/input/ 2> /dev/null\n",
        "shutil.rmtree('/kaggle/input', ignore_errors=True)\n",
        "os.makedirs(KAGGLE_INPUT_PATH, 0o777, exist_ok=True)\n",
        "os.makedirs(KAGGLE_WORKING_PATH, 0o777, exist_ok=True)\n",
        "\n",
        "try:\n",
        "  os.symlink(KAGGLE_INPUT_PATH, os.path.join(\"..\", 'input'), target_is_directory=True)\n",
        "except FileExistsError:\n",
        "  pass\n",
        "try:\n",
        "  os.symlink(KAGGLE_WORKING_PATH, os.path.join(\"..\", 'working'), target_is_directory=True)\n",
        "except FileExistsError:\n",
        "  pass\n",
        "\n",
        "for data_source_mapping in DATA_SOURCE_MAPPING.split(','):\n",
        "    directory, download_url_encoded = data_source_mapping.split(':')\n",
        "    download_url = unquote(download_url_encoded)\n",
        "    filename = urlparse(download_url).path\n",
        "    destination_path = os.path.join(KAGGLE_INPUT_PATH, directory)\n",
        "    try:\n",
        "        with urlopen(download_url) as fileres, NamedTemporaryFile() as tfile:\n",
        "            total_length = fileres.headers['content-length']\n",
        "            print(f'Downloading {directory}, {total_length} bytes compressed')\n",
        "            dl = 0\n",
        "            data = fileres.read(CHUNK_SIZE)\n",
        "            while len(data) > 0:\n",
        "                dl += len(data)\n",
        "                tfile.write(data)\n",
        "                done = int(50 * dl / int(total_length))\n",
        "                sys.stdout.write(f\"\\r[{'=' * done}{' ' * (50-done)}] {dl} bytes downloaded\")\n",
        "                sys.stdout.flush()\n",
        "                data = fileres.read(CHUNK_SIZE)\n",
        "            if filename.endswith('.zip'):\n",
        "              with ZipFile(tfile) as zfile:\n",
        "                zfile.extractall(destination_path)\n",
        "            else:\n",
        "              with tarfile.open(tfile.name) as tarfile:\n",
        "                tarfile.extractall(destination_path)\n",
        "            print(f'\\nDownloaded and uncompressed: {directory}')\n",
        "    except HTTPError as e:\n",
        "        print(f'Failed to load (likely expired) {download_url} to path {destination_path}')\n",
        "        continue\n",
        "    except OSError as e:\n",
        "        print(f'Failed to load {download_url} to path {destination_path}')\n",
        "        continue\n",
        "\n",
        "print('Data source import complete.')\n"
      ],
      "metadata": {
        "id": "DHhbd7QPBHmi"
      },
      "cell_type": "code",
      "outputs": [],
      "execution_count": null
    },
    {
      "cell_type": "code",
      "source": [],
      "metadata": {
        "id": "SD1ST-R-BJMD"
      },
      "execution_count": null,
      "outputs": []
    },
    {
      "cell_type": "code",
      "source": [
        "# This Python 3 environment comes with many helpful analytics libraries installed\n",
        "# It is defined by the kaggle/python Docker image: https://github.com/kaggle/docker-python\n",
        "# For example, here's several helpful packages to load\n",
        "\n",
        "import numpy as np # linear algebra\n",
        "import pandas as pd # data processing, CSV file I/O (e.g. pd.read_csv)\n",
        "\n",
        "# Input data files are available in the read-only \"../input/\" directory\n",
        "# For example, running this (by clicking run or pressing Shift+Enter) will list all files under the input directory\n",
        "\n",
        "import os\n",
        "for dirname, _, filenames in os.walk('/kaggle/input'):\n",
        "    for filename in filenames:\n",
        "        print(os.path.join(dirname, filename))\n",
        "\n",
        "# You can write up to 20GB to the current directory (/kaggle/working/) that gets preserved as output when you create a version using \"Save & Run All\"\n",
        "# You can also write temporary files to /kaggle/temp/, but they won't be saved outside of the current session"
      ],
      "metadata": {
        "_uuid": "8f2839f25d086af736a60e9eeb907d3b93b6e0e5",
        "_cell_guid": "b1076dfc-b9ad-4769-8c92-a6c4dae69d19",
        "execution": {
          "iopub.status.busy": "2024-05-09T19:32:02.748559Z",
          "iopub.execute_input": "2024-05-09T19:32:02.749009Z",
          "iopub.status.idle": "2024-05-09T19:32:04.212231Z",
          "shell.execute_reply.started": "2024-05-09T19:32:02.748974Z",
          "shell.execute_reply": "2024-05-09T19:32:04.211121Z"
        },
        "trusted": true,
        "id": "iIOoBeTMBHmk",
        "outputId": "e04cf0f3-3eb2-4e4a-bc3b-70d1642d5554"
      },
      "execution_count": null,
      "outputs": [
        {
          "name": "stdout",
          "text": "/kaggle/input/imaterialist-challenge-furniture-2018/validation.json\n/kaggle/input/imaterialist-challenge-furniture-2018/sample_submission_randomlabel.csv\n/kaggle/input/imaterialist-challenge-furniture-2018/train.json\n/kaggle/input/imaterialist-challenge-furniture-2018/test.json\n",
          "output_type": "stream"
        }
      ]
    },
    {
      "cell_type": "code",
      "source": [
        "import os, shutil\n",
        "import random\n",
        "import json\n",
        "import pathlib\n",
        "from sklearn.model_selection import train_test_split\n",
        "from sklearn.metrics import accuracy_score, f1_score, confusion_matrix\n",
        "from multiprocessing.pool import ThreadPool as Pool\n",
        "\n",
        "import matplotlib.pyplot as plt\n",
        "import seaborn as sns\n",
        "import urllib3\n",
        "\n",
        "import torch\n",
        "from torch import nn\n",
        "from torch import optim\n",
        "import torch.nn.functional as F\n",
        "from torch.utils.data import DataLoader, Dataset, TensorDataset\n",
        "\n",
        "import torchvision\n",
        "from torchvision import transforms, models\n",
        "from torchvision.utils import make_grid\n",
        "from torchvision.datasets import ImageFolder\n",
        "from torchvision.io import read_image\n",
        "from torchvision.transforms import ToTensor, Lambda\n",
        "\n",
        "\n",
        "%matplotlib inline"
      ],
      "metadata": {
        "execution": {
          "iopub.status.busy": "2024-05-09T19:40:45.726829Z",
          "iopub.execute_input": "2024-05-09T19:40:45.727417Z",
          "iopub.status.idle": "2024-05-09T19:40:53.382402Z",
          "shell.execute_reply.started": "2024-05-09T19:40:45.727383Z",
          "shell.execute_reply": "2024-05-09T19:40:53.381185Z"
        },
        "trusted": true,
        "id": "vNW8KF7LBHml"
      },
      "execution_count": null,
      "outputs": []
    },
    {
      "cell_type": "code",
      "source": [
        "class Config:\n",
        "    num_epochs = 10\n",
        "    learning_rate = 0.001\n",
        "    num_classes = 129\n",
        "    device = torch.device('cuda') if torch.cuda.is_available() else torch.device('cpu')\n",
        "    train_data_root = '/kaggle/input/imaterialist-challenge-furniture-2018/train.json'\n",
        "    test_data_root = '/kaggle/input/imaterialist-challenge-furniture-2018/test.json'\n",
        "    validation_data_root = '/kaggle/input/imaterialist-challenge-furniture-2018/validation.json'\n",
        "    batch_size = 16\n",
        "    num_workers = 2\n",
        "    anotation_file_root = '/kaggle/input/imaterialist-furniture-fgvc5/{}.csv'\n",
        "    images_path = '/kaggle/input/imaterialist-furniture-fgvc5/images/{}'\n",
        "    test_anotation_file_root = '/kaggle/working/test_df.csv'\n",
        "\n",
        "    mean = (0.485, 0.456, 0.406)\n",
        "    std = (0.229, 0.224, 0.225)\n",
        "    resize_to = 256\n",
        "    img_size = 224\n",
        ""
      ],
      "metadata": {
        "execution": {
          "iopub.status.busy": "2024-05-09T19:50:50.881632Z",
          "iopub.execute_input": "2024-05-09T19:50:50.882054Z",
          "iopub.status.idle": "2024-05-09T19:50:50.891347Z",
          "shell.execute_reply.started": "2024-05-09T19:50:50.882021Z",
          "shell.execute_reply": "2024-05-09T19:50:50.890178Z"
        },
        "trusted": true,
        "id": "hiVpZaywBHml"
      },
      "execution_count": null,
      "outputs": []
    },
    {
      "cell_type": "code",
      "source": [
        "train_data = pd.read_json(Config.train_data_root)\n",
        "test_data = pd.read_json(Config.test_data_root)\n",
        "validation_data = pd.read_json(Config.validation_data_root)\n",
        "print(f'Train data: {train_data.shape}')\n",
        "print(f'Test data: {test_data.shape}')\n"
      ],
      "metadata": {
        "execution": {
          "iopub.status.busy": "2024-05-09T19:57:08.720681Z",
          "iopub.execute_input": "2024-05-09T19:57:08.721119Z",
          "iopub.status.idle": "2024-05-09T19:57:10.227617Z",
          "shell.execute_reply.started": "2024-05-09T19:57:08.721075Z",
          "shell.execute_reply": "2024-05-09T19:57:10.225668Z"
        },
        "trusted": true,
        "id": "mRKjUw2ZBHml",
        "outputId": "45ae011c-ef18-4595-e6b4-7590e7361f3c"
      },
      "execution_count": null,
      "outputs": [
        {
          "name": "stdout",
          "text": "Train data: (194828, 2)\nTest data: (12800, 1)\n",
          "output_type": "stream"
        }
      ]
    }
  ]
}