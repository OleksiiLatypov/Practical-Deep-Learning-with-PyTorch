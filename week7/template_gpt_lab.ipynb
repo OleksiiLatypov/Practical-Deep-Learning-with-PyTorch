{
  "nbformat": 4,
  "nbformat_minor": 0,
  "metadata": {
    "colab": {
      "provenance": [],
      "include_colab_link": true
    },
    "kernelspec": {
      "name": "python3",
      "display_name": "Python 3"
    },
    "language_info": {
      "name": "python"
    }
  },
  "cells": [
    {
      "cell_type": "markdown",
      "metadata": {
        "id": "view-in-github",
        "colab_type": "text"
      },
      "source": [
        "<a href=\"https://colab.research.google.com/github/OleksiiLatypov/Practical_Deep_Learning_with_PyTorch/blob/main/week7/template_gpt_lab.ipynb\" target=\"_parent\"><img src=\"https://colab.research.google.com/assets/colab-badge.svg\" alt=\"Open In Colab\"/></a>"
      ]
    },
    {
      "cell_type": "markdown",
      "source": [
        "# **Introduction in GPT features**\n",
        "\n",
        "**GPU** is recomended for this assignment. `Runtime` -> `Change runtime type` -> `GPU`\n",
        "\n",
        "**Instructions**\n",
        "- Write code in the space indicated with `### START CODE HERE ###`\n",
        "- Do not use loops (for/while) unless instructions explicitly tell you so. Parallelization in Deep Learning is key!\n",
        "- If you get stuck, ask for help in Slack or DM `@DRU Team`\n",
        "\n",
        "**You will learn**\n",
        "- Main features GPT.\n",
        "- How to build generative QA based on the given data and pre-trained GPT\n",
        "- Prepare own dataset and fine-tune GPT model on them."
      ],
      "metadata": {
        "id": "DggXnOBpK-Aj"
      }
    },
    {
      "cell_type": "markdown",
      "source": [
        "## Add OpenAI key to Config\n",
        "\n",
        "Before you, sign up or log in to your OpenAI account and generate an [API key](https://platform.openai.com/account/api-keys).\n",
        "\n",
        ">**Note that while the first queries are free, there is a specific limit after which payment is required. OpenAI grants an initial budget of $18, more than enough to complete the lab, experiment with the pipeline amd fine-tune model.**\n",
        "\n",
        ">**Please keep your API key for use during the lab review. We don't store your key, so after verifying your work and earning points, you can delete it in the API keys.**"
      ],
      "metadata": {
        "id": "6LCjSk22LEj_"
      }
    },
    {
      "cell_type": "code",
      "execution_count": null,
      "metadata": {
        "id": "Oa1TZ45xKsDt"
      },
      "outputs": [],
      "source": [
        "# VALIDATION_FIELD[cls] Config\n",
        "\n",
        "class Config:\n",
        "\n",
        "  # # Section 1\n",
        "  gpt3_model_cost = 0.5/1000000\n",
        "  gpt4_model_cost = 5/1000000\n",
        "\n",
        "  # Section 2\n",
        "  wiki_article_path = 'wiki_pages'\n",
        "\n",
        "  # names of Wikipedia's articles\n",
        "  article_titles = ['Kyiv', 'History of Kyiv', 'Kyiv Metro', 'Kyiv culture', 'Kyiv Music Fest', 'FC Dynamo Kyiv', 'Igor Sikorsky Kyiv Polytechnic Institute', 'Paton Bridge', 'Saint Sophia Cathedral', 'Transport in Kyiv', 'Kyiv Zoo', 'Kyiv metropolitan area', 'Taras Shevchenko National University of Kyiv', 'Euromaidan', 'Motherland Monument', 'Podil', 'Kyiv TV Tower']\n",
        "\n",
        "  ### START CODE HERE ###\n",
        "  # your OpenAI API token key\n",
        "  openai_api_key = <YOUR OPENAI_API_KEY>\n",
        "  ### END CODE HERE ###\n",
        "\n"
      ]
    },
    {
      "cell_type": "markdown",
      "source": [
        "## Section 1 - Try GPT"
      ],
      "metadata": {
        "id": "XhsBFifJLUJO"
      }
    },
    {
      "cell_type": "markdown",
      "source": [
        "[Generative Pre-trained Transformer (GPT)](https://arxiv.org/abs/2005.14165) models by OpenAI have taken the natural language processing (NLP) community by introducing compelling language models. These models can perform various NLP tasks like question answering, textual entailment, text summarisation, Etc. Without any supervised training. These language models need very few to no examples to understand the tasks and perform equivalent to or even better than the state-of-the-art models trained in a supervised fashion.\n",
        "\n",
        "With the recent releases of [GPT-4o](https://platform.openai.com/docs/models/gpt-4o) and other models, more powerful new versions of OpenAI’s GPT model may take much time before we can exploit their full potential.\n",
        "\n",
        "We propose considering the possibilities of the OpenAI models they offer and how they can be applied."
      ],
      "metadata": {
        "id": "IDlWut9oLPTa"
      }
    },
    {
      "cell_type": "markdown",
      "source": [
        "First, we'll install the necessary libraries"
      ],
      "metadata": {
        "id": "lP76_jG7x4CC"
      }
    },
    {
      "cell_type": "code",
      "source": [
        "!pip install openai\n",
        "!pip install wget"
      ],
      "metadata": {
        "id": "VNBcbnR3Ll0Y",
        "colab": {
          "base_uri": "https://localhost:8080/"
        },
        "outputId": "86f1fc53-6cba-418f-efd1-2c4814a5ee53"
      },
      "execution_count": null,
      "outputs": [
        {
          "output_type": "stream",
          "name": "stdout",
          "text": [
            "Requirement already satisfied: openai in /usr/local/lib/python3.10/dist-packages (1.37.1)\n",
            "Requirement already satisfied: anyio<5,>=3.5.0 in /usr/local/lib/python3.10/dist-packages (from openai) (3.7.1)\n",
            "Requirement already satisfied: distro<2,>=1.7.0 in /usr/lib/python3/dist-packages (from openai) (1.7.0)\n",
            "Requirement already satisfied: httpx<1,>=0.23.0 in /usr/local/lib/python3.10/dist-packages (from openai) (0.27.0)\n",
            "Requirement already satisfied: pydantic<3,>=1.9.0 in /usr/local/lib/python3.10/dist-packages (from openai) (1.10.17)\n",
            "Requirement already satisfied: sniffio in /usr/local/lib/python3.10/dist-packages (from openai) (1.3.1)\n",
            "Requirement already satisfied: tqdm>4 in /usr/local/lib/python3.10/dist-packages (from openai) (4.66.4)\n",
            "Requirement already satisfied: typing-extensions<5,>=4.7 in /usr/local/lib/python3.10/dist-packages (from openai) (4.12.2)\n",
            "Requirement already satisfied: idna>=2.8 in /usr/local/lib/python3.10/dist-packages (from anyio<5,>=3.5.0->openai) (3.7)\n",
            "Requirement already satisfied: exceptiongroup in /usr/local/lib/python3.10/dist-packages (from anyio<5,>=3.5.0->openai) (1.2.2)\n",
            "Requirement already satisfied: certifi in /usr/local/lib/python3.10/dist-packages (from httpx<1,>=0.23.0->openai) (2024.7.4)\n",
            "Requirement already satisfied: httpcore==1.* in /usr/local/lib/python3.10/dist-packages (from httpx<1,>=0.23.0->openai) (1.0.5)\n",
            "Requirement already satisfied: h11<0.15,>=0.13 in /usr/local/lib/python3.10/dist-packages (from httpcore==1.*->httpx<1,>=0.23.0->openai) (0.14.0)\n",
            "Requirement already satisfied: wget in /usr/local/lib/python3.10/dist-packages (3.2)\n"
          ]
        }
      ]
    },
    {
      "cell_type": "code",
      "source": [
        "import json\n",
        "import os\n",
        "import openai\n",
        "from openai import OpenAI\n",
        "\n",
        "import networkx as nx\n",
        "import pandas as pd\n",
        "import matplotlib.pyplot as plt\n",
        "import csv\n",
        "\n",
        "from collections import defaultdict\n",
        "from typing import List, Dict"
      ],
      "metadata": {
        "id": "SDABbkiYLO5U"
      },
      "execution_count": null,
      "outputs": []
    },
    {
      "cell_type": "markdown",
      "source": [
        "### **OpenAI API start**\n",
        "\n",
        "Now, using OpenAI API, we can give a prompt to a ChatGPT. Create a [chat completions](https://platform.openai.com/docs/api-reference/chat/create) example from the [official guide](https://platform.openai.com/docs/guides/chat/introduction)."
      ],
      "metadata": {
        "id": "YJKQhb2WL7Jd"
      }
    },
    {
      "cell_type": "code",
      "source": [
        "# VALIDATION_FIELD[func] Client_chat_completion\n",
        "\n",
        "### START CODE HERE ###\n",
        "client = OpenAI(api_key=Config.openai_api_key)\n",
        "\n",
        "def client_chat_completion():\n",
        "  response = client.chat.completions.create(\n",
        "    model=\"gpt-3.5-turbo-0125\",\n",
        "    messages=[\n",
        "    {\"role\": \"system\", \"content\": \"You are a helpful assistant.\"},\n",
        "    {\"role\": \"user\", \"content\": \"Hello!\"}\n",
        "    ]\n",
        "  )\n",
        "  return response\n",
        "\n",
        "### END CODE HERE\n",
        "\n",
        "test_response = client_chat_completion()\n",
        "test_response"
      ],
      "metadata": {
        "id": "fpgSHT9OL8_A",
        "colab": {
          "base_uri": "https://localhost:8080/"
        },
        "outputId": "25b419c3-0e77-4bc0-d5e9-4cdc5f44f8d4"
      },
      "execution_count": null,
      "outputs": [
        {
          "output_type": "execute_result",
          "data": {
            "text/plain": [
              "ChatCompletion(id='chatcmpl-9rOkQFX8ublRJ6Qm6W8ZwvMammITc', choices=[Choice(finish_reason='stop', index=0, logprobs=None, message=ChatCompletionMessage(content='Hello! How can I assist you today?', role='assistant', function_call=None, tool_calls=None))], created=1722513542, model='gpt-3.5-turbo-0125', object='chat.completion', service_tier=None, system_fingerprint=None, usage=CompletionUsage(completion_tokens=9, prompt_tokens=19, total_tokens=28))"
            ]
          },
          "metadata": {},
          "execution_count": 83
        }
      ]
    },
    {
      "cell_type": "markdown",
      "source": [
        "**Expected output:**\n",
        "\n",
        "```\n",
        "ChatCompletion(id='chatcmpl-9YqBk4jRNJAKlEBtqgnnjNfrrCEScca',\n",
        "choices=[Choice(finish_reason='stop', index=0, logprobs=None,\n",
        "message=ChatCompletionMessage(content='This is a test.',\n",
        "role='assistant',\n",
        "function_call=None,\n",
        "tool_calls=None))],\n",
        "created=1718090792,\n",
        "model='gpt-3.5-turbo-0125',\n",
        "object='chat.completion',\n",
        "system_fingerprint=None,\n",
        "usage=CompletionUsage(completion_tokens=5, prompt_tokens=12, total_tokens=17))\n",
        "```\n",
        "> Note: The model`s answer can be different but have the same meaning\n"
      ],
      "metadata": {
        "id": "PNHDudVwMR7f"
      }
    },
    {
      "cell_type": "markdown",
      "source": [
        "We got the result with all the query parameters and data. The assistant’s reply in `choices[0].message.content`.\n",
        "\n",
        "### Response Parameters:\n",
        "\n",
        "`finish_reason` - indicates the end status of the model's output. Possible values are:\n",
        "\n",
        "* `stop`: API returned complete model output.\n",
        "* `length`: Incomplete model output due to max_tokens parameter or token limit.\n",
        "* `content_filter`: Content omitted due to a flag from our content filters.\n",
        "* `null`: API response still in progress or incomplete.\n",
        "usage shows how many tokens the API used. This parameter is important to calculate the cost of your request. We will discuss pricing later.\n",
        "\n",
        "Explanation of the response structure:\n",
        "\n",
        "### ChatCompletion:\n",
        "\n",
        "* `id`: Unique identifier for the chat session.\n",
        "* `choices`: List of possible responses from the model. In this case, it contains one Choice object.\n",
        "* `created`: Timestamp of when the session was created.\n",
        "* `model`: Name of the model used (e.g., gpt-3.5-turbo-0125).\n",
        "* `object`: Type of object (in this case, chat.completion).\n",
        "* `system_fingerprint`: System fingerprint if applicable (in this case, None).\n",
        "* `usage`: Information on token usage, containing:\n",
        "* `completion_tokens`: Number of tokens in the model's response.\n",
        "* `prompt_tokens`: Number of tokens in the initial request.\n",
        "* `total_tokens`: Total number of tokens used.\n",
        "\n",
        "### Choice:\n",
        "\n",
        "* `finish_reason`: Reason for the model's completion.\n",
        "* `index`: Index of the choice (in this case, 0).\n",
        "* `message`: The message object containing:\n",
        "* `content`: The content of the assistant's reply.\n",
        "* `role`: The role of the message (assistant in this case).\n",
        "* `function_call`: Information on any function call made by the assistant (in this case, None).\n",
        "* `tool_calls`: Information on any tools called by the assistant (in this case, None)."
      ],
      "metadata": {
        "id": "knnCwhyfNZNc"
      }
    },
    {
      "cell_type": "markdown",
      "source": [
        "### **Models usage examples**\n",
        "\n",
        "We will use the `gpt-3.5-turbo`, one of the current ChatGPT model. This model is accessible on the [web interface](https://chat.openai.com). Your start budget will be enough to end this lab and more."
      ],
      "metadata": {
        "id": "yfwIXjT5PwHX"
      }
    },
    {
      "cell_type": "markdown",
      "source": [
        "Using [Completions](https://platform.openai.com/docs/api-reference/completions), you can try the most available powerful model - `gpt-3.5-turbo`. Let`s ask something about Kyiv.\n",
        "\n",
        "Create a Completion request function with the parameters:\n",
        "- `max_tokens = 100`\n",
        "- `temperature = 0`\n",
        "- `model = \"gpt-3.5-turbo\"`\n",
        "- `prompt is a function argument`"
      ],
      "metadata": {
        "id": "UmUYgHJoP5tZ"
      }
    },
    {
      "cell_type": "code",
      "source": [
        "# VALIDATION_FIELD[func] Gpt_completion\n",
        "\n",
        "### START CODE HERE ###\n",
        "def gpt_completion(prompt, temperature=0, max_tokens=100, model=\"gpt-3.5-turbo\"):\n",
        "    response = client.chat.completions.create(\n",
        "        model=model,\n",
        "        messages=[\n",
        "            {\"role\": \"user\", \"content\": prompt}\n",
        "        ],\n",
        "        max_tokens=max_tokens,\n",
        "        temperature=temperature\n",
        "    )\n",
        "    return response\n",
        "### END CODE HERE ###"
      ],
      "metadata": {
        "id": "TcoilUh1Momi"
      },
      "execution_count": null,
      "outputs": []
    },
    {
      "cell_type": "markdown",
      "source": [
        "Add prompt `\"What is the height of the Kyiv TV tower in metres?\"`"
      ],
      "metadata": {
        "id": "341paOQzQVpx"
      }
    },
    {
      "cell_type": "code",
      "source": [
        "# VALIDATION_FIELD[str] Kyiv_prompt\n",
        "\n",
        "### START CODE HERE ###\n",
        "kyiv_prompt = \"What is the height of the Kyiv TV tower in metres?\"\n",
        "### END CODE HERE ###\n",
        "\n",
        "kyiv_prompt_response = gpt_completion(kyiv_prompt)\n",
        "\n",
        "kyiv_prompt_answer = kyiv_prompt_response.choices[0].message.content\n",
        "kyiv_prompt_answer"
      ],
      "metadata": {
        "id": "ze6yHohIQZ_L",
        "colab": {
          "base_uri": "https://localhost:8080/",
          "height": 35
        },
        "outputId": "35399099-cf16-4c9c-9e4c-c4d6cac2f30e"
      },
      "execution_count": null,
      "outputs": [
        {
          "output_type": "execute_result",
          "data": {
            "text/plain": [
              "'The height of the Kyiv TV tower is 385 meters.'"
            ],
            "application/vnd.google.colaboratory.intrinsic+json": {
              "type": "string"
            }
          },
          "metadata": {},
          "execution_count": 105
        }
      ]
    },
    {
      "cell_type": "markdown",
      "source": [
        "**Expected output:**\n",
        "\n",
        "```\n",
        "The height of the Kyiv TV tower is 385 meters.\n",
        "```\n",
        "\n",
        "> Note: The model`s answer can be different but have the same meaning"
      ],
      "metadata": {
        "id": "mgQFwzzyQpGj"
      }
    },
    {
      "cell_type": "markdown",
      "source": [
        "The correct answer has likely been obtained. Finally, you can check on the page in [Wikipedia](https://en.wikipedia.org/wiki/Kyiv_TV_Tower).\n",
        "\n",
        "You have tried to ask a simple question that does not require analytical work. It is like a simple Google query. Let us try some math and logical questions.\n",
        "\n",
        "* Create prompt to calculate `8 * 6 + 6`."
      ],
      "metadata": {
        "id": "ivteTrmTQ7BM"
      }
    },
    {
      "cell_type": "code",
      "source": [
        "# VALIDATION_FIELD[str] Math_prompt\n",
        "\n",
        "### START CODE HERE ###\n",
        "math_prompt = \"8 * 6 + 6\"\n",
        "### END CODE HERE ###\n",
        "\n",
        "math_prompt_response = gpt_completion(math_prompt)\n",
        "math_prompt_answer = math_prompt_response.choices[0].message.content\n",
        "\n",
        "math_prompt_answer"
      ],
      "metadata": {
        "id": "QqBanf_ZQvWE",
        "colab": {
          "base_uri": "https://localhost:8080/",
          "height": 35
        },
        "outputId": "f6618d0c-f963-44f5-86d6-e14de28c35cb"
      },
      "execution_count": null,
      "outputs": [
        {
          "output_type": "execute_result",
          "data": {
            "text/plain": [
              "'54'"
            ],
            "application/vnd.google.colaboratory.intrinsic+json": {
              "type": "string"
            }
          },
          "metadata": {},
          "execution_count": 11
        }
      ]
    },
    {
      "cell_type": "markdown",
      "source": [
        "**Expected output:**\n",
        "\n",
        "```\n",
        "54\n",
        "```\n",
        "\n",
        "> Note: The model`s answer can be different but have the same meaning"
      ],
      "metadata": {
        "id": "HMV6KksvRIqx"
      }
    },
    {
      "cell_type": "markdown",
      "source": [
        "GPT was able to consider and solve a simple arithmetic example. Let us use the GPT to solve the logic puzzle.\n",
        "\n",
        "* Create prompt to solve this exercise: `Maks have five apples. Mask give two apples to Maria, after what mother give one apple more to Maks. How many apples have Maks now??`"
      ],
      "metadata": {
        "id": "j2IwE5RmRPXV"
      }
    },
    {
      "cell_type": "code",
      "source": [
        "# VALIDATION_FIELD[str] Logic_prompt\n",
        "\n",
        "### START CODE HERE ###\n",
        "logic_prompt = \"Maks have five apples. Mask give two apples to Maria, after what mother give one apple more to Maks. Write, how many apples have Maks now??\"\n",
        "### END CODE HERE ###\n",
        "\n",
        "logic_prompt_response = gpt_completion(logic_prompt)\n",
        "logic_prompt_answer = logic_prompt_response.choices[0].message.content\n",
        "\n",
        "logic_prompt_answer"
      ],
      "metadata": {
        "id": "_68_ICmuRRJ8",
        "colab": {
          "base_uri": "https://localhost:8080/",
          "height": 35
        },
        "outputId": "ed366db2-ddcf-4177-8bb1-e46983b55755"
      },
      "execution_count": null,
      "outputs": [
        {
          "output_type": "execute_result",
          "data": {
            "text/plain": [
              "'Maks now has four apples.'"
            ],
            "application/vnd.google.colaboratory.intrinsic+json": {
              "type": "string"
            }
          },
          "metadata": {},
          "execution_count": 60
        }
      ]
    },
    {
      "cell_type": "markdown",
      "source": [
        "**Expected output:**\n",
        "\n",
        "```\n",
        "Maks has 4 apples now.\n",
        "````\n",
        "\n",
        "> Note: The model`s answer can be different but have the same meaning"
      ],
      "metadata": {
        "id": "kEv3vcZJRYky"
      }
    },
    {
      "cell_type": "markdown",
      "source": [
        "### **Models mistakes**\n",
        "\n",
        "GPT 3.5-turbo performed our tasks well. You could notice that the results were not immediately correct, and some prompt changes are necessary before getting the correct answer.\n",
        "\n",
        "GPT is imperfect, so let us look at this issue in more detail.\n",
        "\n",
        "For example, recent events. gpt-3.5-turbo is `up to June 2021` trained model, so it cannot know who is a Monarch of the United Kingdom now.\n",
        "\n",
        "* Create prompt `Who is a monarch of the United Kingdom?`"
      ],
      "metadata": {
        "id": "-T9djBT7RfC9"
      }
    },
    {
      "cell_type": "code",
      "source": [
        "# VALIDATION_FIELD[str] Monarch_UK_prompt\n",
        "\n",
        "### START CODE HERE ###\n",
        "monarch_UK_prompt = \"Who is a monarch of the United Kingdom?\"\n",
        "### END CODE HERE ###\n",
        "\n",
        "monarch_UK_prompt_response = gpt_completion(monarch_UK_prompt)\n",
        "monarch_UK_prompt_answer = monarch_UK_prompt_response.choices[0].message.content\n",
        "\n",
        "monarch_UK_prompt_answer"
      ],
      "metadata": {
        "id": "rJAok17_Rl5C",
        "colab": {
          "base_uri": "https://localhost:8080/",
          "height": 35
        },
        "outputId": "30b8614a-c196-4ca3-8a28-a6ef587e558f"
      },
      "execution_count": null,
      "outputs": [
        {
          "output_type": "execute_result",
          "data": {
            "text/plain": [
              "'As of September 2021, the monarch of the United Kingdom is Queen Elizabeth II.'"
            ],
            "application/vnd.google.colaboratory.intrinsic+json": {
              "type": "string"
            }
          },
          "metadata": {},
          "execution_count": 13
        }
      ]
    },
    {
      "cell_type": "markdown",
      "source": [
        "**Expected output:**\n",
        "\n",
        "```\n",
        "As of September 2021, the monarch of the United Kingdom is Queen Elizabeth II.\n",
        "```\n",
        "\n",
        "> Note: The model`s answer can be different but have the same meaning"
      ],
      "metadata": {
        "id": "_JTETo3gRwcu"
      }
    },
    {
      "cell_type": "markdown",
      "source": [
        "We got the wrong answer, and you can check it on [Wikipedia page](https://en.wikipedia.org/wiki/Monarchy_of_the_United_Kingdom) (Charles III has been the monarch since 8 September 2022).\n",
        "\n",
        "Let's test the mathematical abilities of the model and try a more complex exercise.\n",
        "\n",
        "* Use your previous math prompt to solve `sqrt(1213*4345)`"
      ],
      "metadata": {
        "id": "llXxsfxhR5l6"
      }
    },
    {
      "cell_type": "code",
      "source": [
        "# VALIDATION_FIELD[str] Harder_math_prompt\n",
        "\n",
        "### START CODE HERE ###\n",
        "harder_math_prompt = \"sqrt(1213*4345)\"\n",
        "### END CODE HERE ###\n",
        "\n",
        "harder_math_prompt_response = gpt_completion(harder_math_prompt)\n",
        "harder_math_prompt_answer = harder_math_prompt_response.choices[0].message.content\n",
        "\n",
        "harder_math_prompt_answer"
      ],
      "metadata": {
        "id": "tRNZNMWvR6pR",
        "colab": {
          "base_uri": "https://localhost:8080/",
          "height": 35
        },
        "outputId": "764fb2c1-f9e4-4327-c6b8-64b3017fa729"
      },
      "execution_count": null,
      "outputs": [
        {
          "output_type": "execute_result",
          "data": {
            "text/plain": [
              "'sqrt(1213*4345) ≈ sqrt(5271985) ≈ 2295.76'"
            ],
            "application/vnd.google.colaboratory.intrinsic+json": {
              "type": "string"
            }
          },
          "metadata": {},
          "execution_count": 14
        }
      ]
    },
    {
      "cell_type": "markdown",
      "source": [
        "**Expected output:**\n",
        "\n",
        "```\n",
        "Anything except 2295.75\n",
        "```"
      ],
      "metadata": {
        "id": "vMLzw6HYSCOg"
      }
    },
    {
      "cell_type": "markdown",
      "source": [
        "GPT models are a powerful tool. As we have seen, he can also make mistakes and answer incorrectly to complex and simple questions (try to solve the simple exercise `8*6 + 6*8`).\n"
      ],
      "metadata": {
        "id": "CXoZ8CQ8SKHo"
      }
    },
    {
      "cell_type": "markdown",
      "source": [
        "### **Generate haiku**\n",
        "\n",
        "\n",
        "However, models can understand what you ask, act according to the limits of the user's words, and even come up with something of your own.\n",
        "\n",
        "Let us generate a [Haiku](https://www.britannica.com/art/haiku) about ChatGPT using the `Gpt-3.5-turbo` model as the fastest text model.\n",
        "\n",
        "Create a Completion request with next parameters:\n",
        "- `max_tokens = 120`\n",
        "- `temperature = 0.3`\n",
        "- `model = \"gpt-3.5-turbo\"`\n",
        "- `\"Tell me a Haiku about ChatGPT\"`"
      ],
      "metadata": {
        "id": "oY5YbmoDSLQX"
      }
    },
    {
      "cell_type": "code",
      "source": [
        "# VALIDATION_FIELD[str] Gpt3_haiku\n",
        "\n",
        "### START CODE HERE ###\n",
        "gpt3_haiku_prompt = \"Tell me a Haiku about ChatGPT\"\n",
        "haiku_gpt3_response = gpt_completion(gpt3_haiku_prompt, max_tokens = 120, temperature = 0.3, model = \"gpt-3.5-turbo\")\n",
        "### END CODE HERE ###\n",
        "\n",
        "haiku_gpt3_answer = haiku_gpt3_response.choices[0].message.content\n",
        "print(haiku_gpt3_answer)"
      ],
      "metadata": {
        "id": "8lmvV0hnSVFP",
        "colab": {
          "base_uri": "https://localhost:8080/"
        },
        "outputId": "ae00154e-09a3-45fd-adc1-7a41eb6c3897"
      },
      "execution_count": null,
      "outputs": [
        {
          "output_type": "stream",
          "name": "stdout",
          "text": [
            "ChatGPT, so wise\n",
            "Words flow like a gentle stream\n",
            "AI friend, so kind\n"
          ]
        }
      ]
    },
    {
      "cell_type": "markdown",
      "source": [
        "Let's compare with `gpt-4-turbo` model as the bigger model.\n",
        "\n",
        "Create a Completion request with next parameters:\n",
        "- `max_tokens = 120`\n",
        "- `temperature = 0.3`\n",
        "- `model = \"gpt-4-turbo\"`\n",
        "- `\"Tell me a Haiku about ChatGPT\"`"
      ],
      "metadata": {
        "id": "DWgpHMo9Sc-8"
      }
    },
    {
      "cell_type": "code",
      "source": [
        "# VALIDATION_FIELD[str] Gpt4_haiku\n",
        "\n",
        "### START CODE HERE ###\n",
        "gpt4_haiku_prompt = \"Tell me a Haiku about ChatGPT\"\n",
        "haiku_gpt4_response = gpt_completion(gpt4_haiku_prompt, max_tokens = 120, temperature = 0.3, model = \"gpt-4-turbo\")\n",
        "### END CODE HERE ###\n",
        "\n",
        "haiku_gpt4_answer = haiku_gpt4_response.choices[0].message.content\n",
        "print(haiku_gpt4_answer)"
      ],
      "metadata": {
        "id": "OSyRweA-Smdw",
        "colab": {
          "base_uri": "https://localhost:8080/"
        },
        "outputId": "ceeede2c-40c1-4c1a-db59-62ca2e1d5a1f"
      },
      "execution_count": null,
      "outputs": [
        {
          "output_type": "stream",
          "name": "stdout",
          "text": [
            "Whispers of circuits,\n",
            "ChatGPT spins tales and wisdom,\n",
            "Silent mind awakes.\n"
          ]
        }
      ]
    },
    {
      "cell_type": "markdown",
      "source": [
        "Now we can compare both answers"
      ],
      "metadata": {
        "id": "Z2Ugne2wStb6"
      }
    },
    {
      "cell_type": "code",
      "source": [
        "print('GPT 3.5 turbo model haiku:')\n",
        "print(haiku_gpt3_response.choices[0].message.content)\n",
        "print('------------------------------------')\n",
        "print('GPT 4 turbo model haiku:')\n",
        "print(haiku_gpt4_response.choices[0].message.content)\n",
        "print('------------------------------------')\n",
        "print('GPT 3.5 cost: %.8f $' % (Config.gpt3_model_cost * haiku_gpt3_response.usage.total_tokens))\n",
        "print('GPT 4 cost: %.8f $' % (Config.gpt4_model_cost * haiku_gpt4_response.usage.total_tokens))"
      ],
      "metadata": {
        "id": "2fNmMug5Swdf",
        "colab": {
          "base_uri": "https://localhost:8080/"
        },
        "outputId": "47eb4fdc-59d3-49d2-8d25-021dc65aca88"
      },
      "execution_count": null,
      "outputs": [
        {
          "output_type": "stream",
          "name": "stdout",
          "text": [
            "GPT 3.5 turbo model haiku:\n",
            "ChatGPT, so wise\n",
            "Words flow like a gentle stream\n",
            "AI friend, so kind\n",
            "------------------------------------\n",
            "GPT 4 turbo model haiku:\n",
            "Whispers of circuits,\n",
            "ChatGPT spins tales and wisdom,\n",
            "Silent mind awakes.\n",
            "------------------------------------\n",
            "GPT 3.5 cost: 0.00001750 $\n",
            "GPT 4 cost: 0.00017500 $\n"
          ]
        }
      ]
    },
    {
      "cell_type": "markdown",
      "source": [
        "As you can see, the GPT-4 model creates more creative and better haiku than GPT-3.5. However, using GPT-4o is more expensive than GPT-3.5, following this table:\n",
        "\n",
        "<table>\n",
        "  <tr>\n",
        "    <td>gpt-3.5-turbo:</td>\n",
        "    <td> $0.00001550</td>\n",
        "  </tr>\n",
        "  <tr>\n",
        "    <td>gpt-4o:</td>\n",
        "    <td> $0.00017400</td>\n",
        "  </tr>\n",
        "</table>\n",
        "\n",
        "We need to pay more for better results. You can learn more about OpenAI pricing on the [official website](https://openai.com/pricing)."
      ],
      "metadata": {
        "id": "W4DFA1n8T06D"
      }
    },
    {
      "cell_type": "markdown",
      "source": [
        "### **Creative solution**\n",
        "\n",
        "GPT is a powerful multitasking model that can solve many different tasks. You can ask any question, how who is the Great Britan monarch or information about a favorite character, and solve math and logic tasks. However, the capabilities of the models are wider than this.\n",
        "\n",
        "Using GPT, we can solve more complex tasks, and let's try to do something."
      ],
      "metadata": {
        "id": "9xV47VWsUyak"
      }
    },
    {
      "cell_type": "markdown",
      "source": [
        "### **GraphGPT**\n",
        "\n",
        "The main idea is to create a prompt that will allow us to convert unstructured natural language into a knowledge graph.\n",
        "\n",
        "To do this, we need to create a prompt from our task and provide the GPT recording formats and an example of execution.\n",
        "\n",
        "\n",
        "You need fill `//-- add your text here --//` in the following prompt:\n",
        "> * Describe the task of finding as many connections as possible and writing them down in a list.\n",
        "* Note that the single format `[ENTITY 1, RELATIONSHIP, ENTITY 2]` should be used, relations are directed, and the order is important.\n",
        "* For testing, use `Maks, Petro and Vlad are colleagues.`"
      ],
      "metadata": {
        "id": "QnH7d0qDU2xM"
      }
    },
    {
      "cell_type": "code",
      "source": [
        "# VALIDATION_FIELD[str] Graph_prompt\n",
        "\n",
        "### START CODE HERE ###\n",
        "#graph_prompt =\"\"\"Find as many connections as possible between the entities in the following text 'Maks, Petro, and Vlad are colleagues' and write them down in a nested array. Use the following format: [[\"ENTITY 1\", \"RELATIONSHIP\", \"ENTITY 2\"]]. Remember that relationships are directed, and the order is important.\"\"\"\n",
        "                #For example, if the text says 'Maks, Petro, and Vlad are colleagues',\"\"\"# you would write:\n",
        "    # [[\"Maks\", \"colleague\", \"Petro\"],\\\n",
        "    #  [\"Maks\", \"colleague\", \"Vlad\"],\\\n",
        "    #  [\"Petro\", \"colleague\", \"Maks\"],\\\n",
        "    #  [\"Petro\", \"colleague\", \"Vlad\"],\\\n",
        "    #  [\"Vlad\", \"colleague\", \"Maks\"],\\\n",
        "    #  [\"Vlad\", \"colleague\", \"Petro\"]]\\\n",
        "    # Now, apply this to the following text: Maks, Petro and Vlad are colleagues.\"\"\"\n",
        "# \"Find as many connections as possible between the entities in the following text 'Maks, Petro and Vlad are colleagues'. and write them down in a square brackets as a nested list. Use the following format: [[ENTITY 1, RELATIONSHIP, ENTITY 2]]\"\n",
        "\n",
        "graph_prompt = \"\"\"Given a prompt, Maks, Petro and Vlad are colleagues..\n",
        "\n",
        "If an update is a relationship, add the relationship in the form of a list of lists. Each sublist contains the first person, the relationship, and the second person..\n",
        "\n",
        "Example:\n",
        "prompt: Alice is Bob's roommate.\n",
        "updates:\n",
        "[[\"Alice\", \"roommate\", \"Bob\"]]\n",
        "\n",
        "prompt:  Maks, Petro and Vlad are colleagues.\n",
        "updates:\n",
        "\"\"\"\n",
        "### END CODE HERE ###\n",
        "\n",
        "graph_prompt_response = gpt_completion(graph_prompt)\n",
        "graph_prompt_answer = graph_prompt_response.choices[0].message.content\n",
        "\n",
        "print(graph_prompt_answer)"
      ],
      "metadata": {
        "id": "xCl9NbK1U5iP",
        "colab": {
          "base_uri": "https://localhost:8080/"
        },
        "outputId": "29d5eccc-03cf-47ad-9108-2ce6ff4fc8ed"
      },
      "execution_count": null,
      "outputs": [
        {
          "output_type": "stream",
          "name": "stdout",
          "text": [
            "[[\"Maks\", \"colleague\", \"Petro\"], [\"Maks\", \"colleague\", \"Vlad\"], [\"Petro\", \"colleague\", \"Maks\"], [\"Petro\", \"colleague\", \"Vlad\"], [\"Vlad\", \"colleague\", \"Maks\"], [\"Vlad\", \"colleague\", \"Petro\"]]\n"
          ]
        }
      ]
    },
    {
      "cell_type": "markdown",
      "source": [
        "Expected output:\n",
        "```\n",
        "    [[\"Maks\", \"colleague\", \"Petro\"],\n",
        "     [\"Maks\", \"colleague\", \"Vlad\"],\n",
        "     [\"Petro\", \"colleague\", \"Maks\"],\n",
        "     [\"Petro\", \"colleague\", \"Vlad\"],\n",
        "     [\"Vlad\", \"colleague\", \"Maks\"],\n",
        "     [\"Vlad\", \"colleague\", \"Petro\"]]\n",
        "```\n",
        "\n"
      ],
      "metadata": {
        "id": "1eZ-ZrrsVAbQ"
      }
    },
    {
      "cell_type": "markdown",
      "source": [
        "Create functions using [networkx](https://networkx.org/documentation/stable/reference/introduction.html) for visualizing the obtained connections:"
      ],
      "metadata": {
        "id": "ud-hmWY_VVXb"
      }
    },
    {
      "cell_type": "code",
      "source": [
        "# VALIDATION_FIELD[str] create_show_graph\n",
        "\n",
        "def create_relationships_dataframe(answer_data):\n",
        "    # Answer data is a string, we need to extract the JSON part\n",
        "    json_start = answer_data.find('[')\n",
        "    json_end = answer_data.rfind(']') + 1\n",
        "    json_data = answer_data[json_start:json_end]\n",
        "\n",
        "    # Close JSON array if it's incomplete\n",
        "    if answer_data.count('[') > answer_data.count(']'):\n",
        "        json_data += ']]'\n",
        "\n",
        "    # Parse the JSON data\n",
        "    relationships = json.loads(json_data)\n",
        "    from_label = [relationship[0] for relationship in relationships]\n",
        "    weight_label = [relationship[1] for relationship in relationships]\n",
        "    to_label = [relationship[2] for relationship in relationships]\n",
        "\n",
        "    # Create a DataFrame\n",
        "    df_relationships = pd.DataFrame({'from': from_label, 'to': to_label, 'weight': weight_label})\n",
        "    return df_relationships\n",
        "\n",
        "def get_connection_relationship_weight(edge, df_relation):\n",
        "    name = df_relation.loc[(df_relation['from'] == edge[0]) & (df_relation['to'] == edge[1])]['weight'].iloc[0]\n",
        "    return name\n",
        "\n",
        "def show_graph(answer_data):\n",
        "    if isinstance(answer_data, list):\n",
        "        relationships = answer_data\n",
        "    else:\n",
        "        print(\"Unsupported data format\")\n",
        "        return\n",
        "\n",
        "    from_label = [relationship[0] for relationship in relationships]\n",
        "    weight_label = [relationship[1] for relationship in relationships]\n",
        "    to_label = [relationship[2] for relationship in relationships]\n",
        "    df_relationships = pd.DataFrame({'from': from_label, 'to': to_label, 'weight': weight_label})\n",
        "\n",
        "    G = nx.from_pandas_edgelist(df_relationships, 'from', 'to', create_using=nx.DiGraph())\n",
        "\n",
        "    pos = nx.spring_layout(G)\n",
        "\n",
        "    nx.draw(G, pos, with_labels=True, node_size=800, node_color=\"lightblue\")\n",
        "\n",
        "    labels = {e: df_relationships.loc[(df_relationships['from'] == e[0]) & (df_relationships['to'] == e[1])]['weight'].iloc[0] for e in G.edges}\n",
        "    nx.draw_networkx_edge_labels(G, pos, edge_labels=labels)\n",
        "\n",
        "    # show graph\n",
        "    plt.show()"
      ],
      "metadata": {
        "id": "C-3YqnTPVQuH"
      },
      "execution_count": null,
      "outputs": []
    },
    {
      "cell_type": "markdown",
      "source": [
        "Now you can visualize your graph."
      ],
      "metadata": {
        "id": "EOPMui17VzqI"
      }
    },
    {
      "cell_type": "code",
      "source": [
        "data = json.loads(graph_prompt_answer)\n",
        "print(data)\n",
        "show_graph(data)"
      ],
      "metadata": {
        "id": "M20_bODfV0eV",
        "colab": {
          "base_uri": "https://localhost:8080/",
          "height": 533
        },
        "outputId": "82189cba-8a25-411a-f5de-c6a6c3365dae"
      },
      "execution_count": null,
      "outputs": [
        {
          "output_type": "stream",
          "name": "stdout",
          "text": [
            "[['Maks', 'colleague', 'Petro'], ['Maks', 'colleague', 'Vlad'], ['Petro', 'colleague', 'Maks'], ['Petro', 'colleague', 'Vlad'], ['Vlad', 'colleague', 'Maks'], ['Vlad', 'colleague', 'Petro']]\n"
          ]
        },
        {
          "output_type": "display_data",
          "data": {
            "text/plain": [
              "<Figure size 640x480 with 1 Axes>"
            ],
            "image/png": "[encoded data removed]"
          },
          "metadata": {}
        }
      ]
    },
    {
      "cell_type": "markdown",
      "source": [
        "The graph you obtained show the relationship between Peter, Vlad and Max, as specified in your prompt. All of them are colleagues and related to each other.\n",
        "\n",
        "To make sure that the prompt you created works correctly, let us consider a more complex condition by adding external relations\n",
        "\n",
        "\n",
        "You need fill `//-- add your text here --//` in the following prompt:\n",
        "> * Paste your description and formatting.\n",
        "* Generate next relationships graph: `Markus, Mario, Clara and Mykyta are friends. Maria is Clara teacher and Markus mother and Sam lives with Mario.`"
      ],
      "metadata": {
        "id": "0C69rJOkV6_4"
      }
    },
    {
      "cell_type": "code",
      "source": [
        "# VALIDATION_FIELD[str] Harder_graph_prompt\n",
        "\n",
        "### START CODE HERE ###\n",
        "harder_graph_prompt = \"\"\"Given a prompt, Markus, Mario, Clara and Mykyta are friends. Maria is Clara's teacher and Markus's mother and Sam lives with Mario..\n",
        "\n",
        "If an update is a relationship, add the relationship in the form of a list of lists. Each sublist contains the first person, the relationship, and the second person.\n",
        "\n",
        "Example:\n",
        "prompt: Alice is Bob's roommate.\n",
        "updates:\n",
        "[[\"Alice\", \"roommate\", \"Bob\"]]\n",
        "\n",
        "prompt: Markus, Mario, Clara and Mykyta are friends. Maria is Clara's teacher and Markus's mother and Sam lives with Mario.\n",
        "updates:\n",
        "\"\"\"\n",
        "\n",
        "### END CODE HERE ###\n",
        "\n",
        "harder_graph_prompt_response = gpt_completion(harder_graph_prompt, max_tokens=600)\n",
        "harder_graph_prompt_answer = harder_graph_prompt_response.choices[0].message.content\n",
        "\n",
        "print(harder_graph_prompt_answer)"
      ],
      "metadata": {
        "id": "71K3qCNmV-rV",
        "colab": {
          "base_uri": "https://localhost:8080/"
        },
        "outputId": "779d95af-c6ff-43ff-972c-c0df824c8443"
      },
      "execution_count": null,
      "outputs": [
        {
          "output_type": "stream",
          "name": "stdout",
          "text": [
            "[[\"Markus\", \"friend\", \"Mario\"],\n",
            " [\"Markus\", \"friend\", \"Clara\"],\n",
            " [\"Markus\", \"friend\", \"Mykyta\"],\n",
            " [\"Mario\", \"friend\", \"Markus\"],\n",
            " [\"Mario\", \"friend\", \"Clara\"],\n",
            " [\"Mario\", \"friend\", \"Mykyta\"],\n",
            " [\"Clara\", \"friend\", \"Markus\"],\n",
            " [\"Clara\", \"friend\", \"Mario\"],\n",
            " [\"Clara\", \"friend\", \"Mykyta\"],\n",
            " [\"Mykyta\", \"friend\", \"Markus\"],\n",
            " [\"Mykyta\", \"friend\", \"Mario\"],\n",
            " [\"Mykyta\", \"friend\", \"Clara\"],\n",
            " [\"Maria\", \"teacher\", \"Clara\"],\n",
            " [\"Maria\", \"mother\", \"Markus\"],\n",
            " [\"Sam\", \"roommate\", \"Mario\"]]\n"
          ]
        }
      ]
    },
    {
      "cell_type": "code",
      "source": [
        "result = json.loads(harder_graph_prompt_answer)\n",
        "show_graph(result)"
      ],
      "metadata": {
        "id": "A8OkI_PqrUdi",
        "colab": {
          "base_uri": "https://localhost:8080/",
          "height": 516
        },
        "outputId": "45054f4d-04ac-483f-ef78-b8ff52d6f9bb"
      },
      "execution_count": null,
      "outputs": [
        {
          "output_type": "display_data",
          "data": {
            "text/plain": [
              "<Figure size 640x480 with 1 Axes>"
            ],
            "image/png": "[encoded data removed]"
          },
          "metadata": {}
        }
      ]
    },
    {
      "cell_type": "markdown",
      "source": [
        "Expected output:\n",
        "```\n",
        "[['Markus', 'friend', 'Mario'],\n",
        " ['Markus', 'friend', 'Clara'],\n",
        " ['Markus', 'mother', 'Maria'],\n",
        " ['Mario', 'friend', 'Markus'],\n",
        " ['Mario', 'friend', 'Clara'],\n",
        " ['Mario', 'friend', 'Mykyta'],\n",
        " ['Clara', 'friend', 'Markus'],\n",
        " ['Clara', 'friend', 'Mario'],\n",
        " ['Clara', 'teacher', 'Maria'],\n",
        " ['Mykyta', 'friend', 'Mario'],\n",
        " ['Maria', 'teacher', 'Clara'],\n",
        " ['Maria', 'mother', 'Markus'],\n",
        " ['Sam', 'lives with', 'Mario']]\n",
        " ```\n",
        "\n",
        "> Note: The model`s answer can be different but have the same meaning\n"
      ],
      "metadata": {
        "id": "5ORlomy3BvoG"
      }
    },
    {
      "cell_type": "markdown",
      "source": [
        "## **Section 2 - Search Engine with GPT-3**\n",
        "\n",
        "[Haystack](https://haystack.deepset.ai) is an open-source framework for building search systems that work intelligently over large document collections. Besides providing a comfortable entry point to the [OpenAI API](https://openai.com/product), Haystack offers all the other components we need to successfully implement an end-to-end NLP system with GPT: a vector database, a module for retrieval, and the pipeline that combines all those elements into one queryable system.\n",
        "In this lab, we’ll demonstrate how to build a generative question-answering system that uses the `gpt-3.5-turbo` model to present results in convincing natural language.\n"
      ],
      "metadata": {
        "id": "-ye1XcHkWRCj"
      }
    },
    {
      "cell_type": "code",
      "source": [
        "# Install necessary library\n",
        "!pip install --upgrade farm-haystack[all]"
      ],
      "metadata": {
        "id": "nIVuN1yYWdyU",
        "colab": {
          "base_uri": "https://localhost:8080/"
        },
        "outputId": "e45d0253-0ff8-4cf8-972b-0e456a491aab"
      },
      "execution_count": null,
      "outputs": [
        {
          "output_type": "stream",
          "name": "stdout",
          "text": [
            "Requirement already satisfied: farm-haystack[all] in /usr/local/lib/python3.10/dist-packages (1.26.2)\n",
            "Requirement already satisfied: boilerpy3 in /usr/local/lib/python3.10/dist-packages (from farm-haystack[all]) (1.0.7)\n",
            "Requirement already satisfied: events in /usr/local/lib/python3.10/dist-packages (from farm-haystack[all]) (0.5)\n",
            "Requirement already satisfied: httpx in /usr/local/lib/python3.10/dist-packages (from farm-haystack[all]) (0.27.0)\n",
            "Requirement already satisfied: jsonschema in /usr/local/lib/python3.10/dist-packages (from farm-haystack[all]) (4.23.0)\n",
            "Requirement already satisfied: lazy-imports==0.3.1 in /usr/local/lib/python3.10/dist-packages (from farm-haystack[all]) (0.3.1)\n",
            "Requirement already satisfied: more-itertools in /usr/local/lib/python3.10/dist-packages (from farm-haystack[all]) (10.3.0)\n",
            "Requirement already satisfied: networkx in /usr/local/lib/python3.10/dist-packages (from farm-haystack[all]) (3.3)\n",
            "Requirement already satisfied: pandas in /usr/local/lib/python3.10/dist-packages (from farm-haystack[all]) (2.1.4)\n",
            "Requirement already satisfied: pillow in /usr/local/lib/python3.10/dist-packages (from farm-haystack[all]) (9.4.0)\n",
            "Requirement already satisfied: platformdirs in /usr/local/lib/python3.10/dist-packages (from farm-haystack[all]) (4.2.2)\n",
            "Requirement already satisfied: posthog in /usr/local/lib/python3.10/dist-packages (from farm-haystack[all]) (3.5.0)\n",
            "Requirement already satisfied: prompthub-py==4.0.0 in /usr/local/lib/python3.10/dist-packages (from farm-haystack[all]) (4.0.0)\n",
            "Requirement already satisfied: pydantic<2 in /usr/local/lib/python3.10/dist-packages (from farm-haystack[all]) (1.10.17)\n",
            "Requirement already satisfied: quantulum3 in /usr/local/lib/python3.10/dist-packages (from farm-haystack[all]) (0.9.2)\n",
            "Requirement already satisfied: rank-bm25 in /usr/local/lib/python3.10/dist-packages (from farm-haystack[all]) (0.2.2)\n",
            "Requirement already satisfied: requests in /usr/local/lib/python3.10/dist-packages (from farm-haystack[all]) (2.32.3)\n",
            "Requirement already satisfied: requests-cache<1.0.0 in /usr/local/lib/python3.10/dist-packages (from farm-haystack[all]) (0.9.8)\n",
            "Requirement already satisfied: scikit-learn>=1.3.0 in /usr/local/lib/python3.10/dist-packages (from farm-haystack[all]) (1.3.2)\n",
            "Requirement already satisfied: sseclient-py in /usr/local/lib/python3.10/dist-packages (from farm-haystack[all]) (1.8.0)\n",
            "Requirement already satisfied: tenacity in /usr/local/lib/python3.10/dist-packages (from farm-haystack[all]) (9.0.0)\n",
            "Requirement already satisfied: tiktoken>=0.5.1 in /usr/local/lib/python3.10/dist-packages (from farm-haystack[all]) (0.7.0)\n",
            "Requirement already satisfied: tqdm in /usr/local/lib/python3.10/dist-packages (from farm-haystack[all]) (4.66.4)\n",
            "Requirement already satisfied: transformers==4.39.3 in /usr/local/lib/python3.10/dist-packages (from farm-haystack[all]) (4.39.3)\n",
            "Requirement already satisfied: azure-ai-formrecognizer>=3.2.0b2 in /usr/local/lib/python3.10/dist-packages (from farm-haystack[all]) (3.3.3)\n",
            "Requirement already satisfied: beautifulsoup4 in /usr/local/lib/python3.10/dist-packages (from farm-haystack[all]) (4.12.3)\n",
            "Requirement already satisfied: boto3>=1.28.57 in /usr/local/lib/python3.10/dist-packages (from farm-haystack[all]) (1.34.151)\n",
            "Requirement already satisfied: elastic-transport<8 in /usr/local/lib/python3.10/dist-packages (from farm-haystack[all]) (7.16.0)\n",
            "Requirement already satisfied: elasticsearch<8,>=7.17 in /usr/local/lib/python3.10/dist-packages (from farm-haystack[all]) (7.17.9)\n",
            "Requirement already satisfied: faiss-cpu<=1.7.2,>=1.6.3 in /usr/local/lib/python3.10/dist-packages (from farm-haystack[all]) (1.7.2)\n",
            "Requirement already satisfied: huggingface-hub>=0.5.0 in /usr/local/lib/python3.10/dist-packages (from farm-haystack[all]) (0.23.5)\n",
            "Requirement already satisfied: langdetect in /usr/local/lib/python3.10/dist-packages (from farm-haystack[all]) (1.0.9)\n",
            "Requirement already satisfied: markdown in /usr/local/lib/python3.10/dist-packages (from farm-haystack[all]) (3.6)\n",
            "Requirement already satisfied: mlflow in /usr/local/lib/python3.10/dist-packages (from farm-haystack[all]) (2.15.0)\n",
            "Requirement already satisfied: nltk in /usr/local/lib/python3.10/dist-packages (from farm-haystack[all]) (3.8.1)\n",
            "Requirement already satisfied: openai-whisper>=20231106 in /usr/local/lib/python3.10/dist-packages (from farm-haystack[all]) (20231117)\n",
            "Requirement already satisfied: opensearch-py>=2 in /usr/local/lib/python3.10/dist-packages (from farm-haystack[all]) (2.6.0)\n",
            "Requirement already satisfied: pdf2image>1.14 in /usr/local/lib/python3.10/dist-packages (from farm-haystack[all]) (1.17.0)\n",
            "Requirement already satisfied: pinecone-client<3,>=2.0.11 in /usr/local/lib/python3.10/dist-packages (from farm-haystack[all]) (2.2.4)\n",
            "Requirement already satisfied: psycopg2-binary in /usr/local/lib/python3.10/dist-packages (from farm-haystack[all]) (2.9.9)\n",
            "Requirement already satisfied: pymongo>=4.6 in /usr/local/lib/python3.10/dist-packages (from farm-haystack[all]) (4.8.0)\n",
            "Requirement already satisfied: pytesseract>0.3.7 in /usr/local/lib/python3.10/dist-packages (from farm-haystack[all]) (0.3.10)\n",
            "Requirement already satisfied: python-docx in /usr/local/lib/python3.10/dist-packages (from farm-haystack[all]) (1.1.2)\n",
            "Requirement already satisfied: python-frontmatter in /usr/local/lib/python3.10/dist-packages (from farm-haystack[all]) (1.1.0)\n",
            "Requirement already satisfied: python-magic in /usr/local/lib/python3.10/dist-packages (from farm-haystack[all]) (0.4.27)\n",
            "Requirement already satisfied: python-pptx in /usr/local/lib/python3.10/dist-packages (from farm-haystack[all]) (0.6.23)\n",
            "Requirement already satisfied: rapidfuzz<2.8.0,>=2.0.15 in /usr/local/lib/python3.10/dist-packages (from farm-haystack[all]) (2.7.0)\n",
            "Requirement already satisfied: scipy>=1.3.2 in /usr/local/lib/python3.10/dist-packages (from farm-haystack[all]) (1.13.1)\n",
            "Requirement already satisfied: selenium>=4.11.0 in /usr/local/lib/python3.10/dist-packages (from farm-haystack[all]) (4.23.1)\n",
            "Requirement already satisfied: sentence-transformers>=2.2.0 in /usr/local/lib/python3.10/dist-packages (from farm-haystack[all]) (3.0.1)\n",
            "Requirement already satisfied: seqeval in /usr/local/lib/python3.10/dist-packages (from farm-haystack[all]) (1.2.2)\n",
            "Requirement already satisfied: sqlalchemy-utils in /usr/local/lib/python3.10/dist-packages (from farm-haystack[all]) (0.41.2)\n",
            "Requirement already satisfied: sqlalchemy<2,>=1.4.2 in /usr/local/lib/python3.10/dist-packages (from farm-haystack[all]) (1.4.53)\n",
            "Requirement already satisfied: tika in /usr/local/lib/python3.10/dist-packages (from farm-haystack[all]) (2.6.0)\n",
            "Requirement already satisfied: weaviate-client>2 in /usr/local/lib/python3.10/dist-packages (from farm-haystack[all]) (3.26.6)\n",
            "Requirement already satisfied: pyyaml<7.0,>=6.0 in /usr/local/lib/python3.10/dist-packages (from prompthub-py==4.0.0->farm-haystack[all]) (6.0.1)\n",
            "Requirement already satisfied: filelock in /usr/local/lib/python3.10/dist-packages (from transformers==4.39.3->farm-haystack[all]) (3.15.4)\n",
            "Requirement already satisfied: numpy>=1.17 in /usr/local/lib/python3.10/dist-packages (from transformers==4.39.3->farm-haystack[all]) (1.26.4)\n",
            "Requirement already satisfied: packaging>=20.0 in /usr/local/lib/python3.10/dist-packages (from transformers==4.39.3->farm-haystack[all]) (24.1)\n",
            "Requirement already satisfied: regex!=2019.12.17 in /usr/local/lib/python3.10/dist-packages (from transformers==4.39.3->farm-haystack[all]) (2024.5.15)\n",
            "Requirement already satisfied: tokenizers<0.19,>=0.14 in /usr/local/lib/python3.10/dist-packages (from transformers==4.39.3->farm-haystack[all]) (0.15.2)\n",
            "Requirement already satisfied: safetensors>=0.4.1 in /usr/local/lib/python3.10/dist-packages (from transformers==4.39.3->farm-haystack[all]) (0.4.3)\n",
            "Requirement already satisfied: torch in /usr/local/lib/python3.10/dist-packages (from transformers[sentencepiece,torch]==4.39.3; extra == \"all\"->farm-haystack[all]) (2.3.1+cu121)\n",
            "Requirement already satisfied: accelerate>=0.21.0 in /usr/local/lib/python3.10/dist-packages (from transformers[sentencepiece,torch]==4.39.3; extra == \"all\"->farm-haystack[all]) (0.32.1)\n",
            "Requirement already satisfied: sentencepiece!=0.1.92,>=0.1.91 in /usr/local/lib/python3.10/dist-packages (from transformers[sentencepiece,torch]==4.39.3; extra == \"all\"->farm-haystack[all]) (0.1.99)\n",
            "Requirement already satisfied: protobuf in /usr/local/lib/python3.10/dist-packages (from transformers[sentencepiece,torch]==4.39.3; extra == \"all\"->farm-haystack[all]) (3.20.3)\n",
            "Requirement already satisfied: azure-core>=1.23.0 in /usr/local/lib/python3.10/dist-packages (from azure-ai-formrecognizer>=3.2.0b2->farm-haystack[all]) (1.30.2)\n",
            "Requirement already satisfied: msrest>=0.6.21 in /usr/local/lib/python3.10/dist-packages (from azure-ai-formrecognizer>=3.2.0b2->farm-haystack[all]) (0.7.1)\n",
            "Requirement already satisfied: azure-common>=1.1 in /usr/local/lib/python3.10/dist-packages (from azure-ai-formrecognizer>=3.2.0b2->farm-haystack[all]) (1.1.28)\n",
            "Requirement already satisfied: typing-extensions>=4.0.1 in /usr/local/lib/python3.10/dist-packages (from azure-ai-formrecognizer>=3.2.0b2->farm-haystack[all]) (4.12.2)\n",
            "Requirement already satisfied: botocore<1.35.0,>=1.34.151 in /usr/local/lib/python3.10/dist-packages (from boto3>=1.28.57->farm-haystack[all]) (1.34.151)\n",
            "Requirement already satisfied: jmespath<2.0.0,>=0.7.1 in /usr/local/lib/python3.10/dist-packages (from boto3>=1.28.57->farm-haystack[all]) (1.0.1)\n",
            "Requirement already satisfied: s3transfer<0.11.0,>=0.10.0 in /usr/local/lib/python3.10/dist-packages (from boto3>=1.28.57->farm-haystack[all]) (0.10.2)\n",
            "Requirement already satisfied: urllib3<2,>=1.21.1 in /usr/local/lib/python3.10/dist-packages (from elastic-transport<8->farm-haystack[all]) (1.26.19)\n",
            "Requirement already satisfied: six>=1.12 in /usr/local/lib/python3.10/dist-packages (from elastic-transport<8->farm-haystack[all]) (1.16.0)\n",
            "Requirement already satisfied: certifi in /usr/local/lib/python3.10/dist-packages (from elastic-transport<8->farm-haystack[all]) (2024.7.4)\n",
            "Requirement already satisfied: fsspec>=2023.5.0 in /usr/local/lib/python3.10/dist-packages (from huggingface-hub>=0.5.0->farm-haystack[all]) (2024.6.1)\n",
            "Requirement already satisfied: triton<3,>=2.0.0 in /usr/local/lib/python3.10/dist-packages (from openai-whisper>=20231106->farm-haystack[all]) (2.3.1)\n",
            "Requirement already satisfied: numba in /usr/local/lib/python3.10/dist-packages (from openai-whisper>=20231106->farm-haystack[all]) (0.60.0)\n",
            "Requirement already satisfied: python-dateutil in /usr/local/lib/python3.10/dist-packages (from opensearch-py>=2->farm-haystack[all]) (2.8.2)\n",
            "Requirement already satisfied: loguru>=0.5.0 in /usr/local/lib/python3.10/dist-packages (from pinecone-client<3,>=2.0.11->farm-haystack[all]) (0.7.2)\n",
            "Requirement already satisfied: dnspython>=2.0.0 in /usr/local/lib/python3.10/dist-packages (from pinecone-client<3,>=2.0.11->farm-haystack[all]) (2.6.1)\n",
            "Requirement already satisfied: jarowinkler<2.0.0,>=1.2.0 in /usr/local/lib/python3.10/dist-packages (from rapidfuzz<2.8.0,>=2.0.15->farm-haystack[all]) (1.2.3)\n",
            "Requirement already satisfied: charset-normalizer<4,>=2 in /usr/local/lib/python3.10/dist-packages (from requests->farm-haystack[all]) (3.3.2)\n",
            "Requirement already satisfied: idna<4,>=2.5 in /usr/local/lib/python3.10/dist-packages (from requests->farm-haystack[all]) (3.7)\n",
            "Requirement already satisfied: appdirs>=1.4.4 in /usr/local/lib/python3.10/dist-packages (from requests-cache<1.0.0->farm-haystack[all]) (1.4.4)\n",
            "Requirement already satisfied: attrs>=21.2 in /usr/local/lib/python3.10/dist-packages (from requests-cache<1.0.0->farm-haystack[all]) (23.2.0)\n",
            "Requirement already satisfied: cattrs>=22.2 in /usr/local/lib/python3.10/dist-packages (from requests-cache<1.0.0->farm-haystack[all]) (23.2.3)\n",
            "Requirement already satisfied: url-normalize>=1.4 in /usr/local/lib/python3.10/dist-packages (from requests-cache<1.0.0->farm-haystack[all]) (1.4.3)\n",
            "Requirement already satisfied: joblib>=1.1.1 in /usr/local/lib/python3.10/dist-packages (from scikit-learn>=1.3.0->farm-haystack[all]) (1.4.2)\n",
            "Requirement already satisfied: threadpoolctl>=2.0.0 in /usr/local/lib/python3.10/dist-packages (from scikit-learn>=1.3.0->farm-haystack[all]) (3.5.0)\n",
            "Requirement already satisfied: trio~=0.17 in /usr/local/lib/python3.10/dist-packages (from selenium>=4.11.0->farm-haystack[all]) (0.26.0)\n",
            "Requirement already satisfied: trio-websocket~=0.9 in /usr/local/lib/python3.10/dist-packages (from selenium>=4.11.0->farm-haystack[all]) (0.11.1)\n",
            "Requirement already satisfied: websocket-client~=1.8 in /usr/local/lib/python3.10/dist-packages (from selenium>=4.11.0->farm-haystack[all]) (1.8.0)\n",
            "Requirement already satisfied: greenlet!=0.4.17 in /usr/local/lib/python3.10/dist-packages (from sqlalchemy<2,>=1.4.2->farm-haystack[all]) (3.0.3)\n",
            "Requirement already satisfied: validators<1.0.0,>=0.21.2 in /usr/local/lib/python3.10/dist-packages (from weaviate-client>2->farm-haystack[all]) (0.33.0)\n",
            "Requirement already satisfied: authlib<2.0.0,>=1.3.1 in /usr/local/lib/python3.10/dist-packages (from weaviate-client>2->farm-haystack[all]) (1.3.1)\n",
            "Requirement already satisfied: soupsieve>1.2 in /usr/local/lib/python3.10/dist-packages (from beautifulsoup4->farm-haystack[all]) (2.5)\n",
            "Requirement already satisfied: anyio in /usr/local/lib/python3.10/dist-packages (from httpx->farm-haystack[all]) (3.7.1)\n",
            "Requirement already satisfied: httpcore==1.* in /usr/local/lib/python3.10/dist-packages (from httpx->farm-haystack[all]) (1.0.5)\n",
            "Requirement already satisfied: sniffio in /usr/local/lib/python3.10/dist-packages (from httpx->farm-haystack[all]) (1.3.1)\n",
            "Requirement already satisfied: h11<0.15,>=0.13 in /usr/local/lib/python3.10/dist-packages (from httpcore==1.*->httpx->farm-haystack[all]) (0.14.0)\n",
            "Requirement already satisfied: jsonschema-specifications>=2023.03.6 in /usr/local/lib/python3.10/dist-packages (from jsonschema->farm-haystack[all]) (2023.12.1)\n",
            "Requirement already satisfied: referencing>=0.28.4 in /usr/local/lib/python3.10/dist-packages (from jsonschema->farm-haystack[all]) (0.35.1)\n",
            "Requirement already satisfied: rpds-py>=0.7.1 in /usr/local/lib/python3.10/dist-packages (from jsonschema->farm-haystack[all]) (0.19.1)\n",
            "Requirement already satisfied: mlflow-skinny==2.15.0 in /usr/local/lib/python3.10/dist-packages (from mlflow->farm-haystack[all]) (2.15.0)\n",
            "Requirement already satisfied: Flask<4 in /usr/local/lib/python3.10/dist-packages (from mlflow->farm-haystack[all]) (2.2.5)\n",
            "Requirement already satisfied: alembic!=1.10.0,<2 in /usr/local/lib/python3.10/dist-packages (from mlflow->farm-haystack[all]) (1.13.2)\n",
            "Requirement already satisfied: docker<8,>=4.0.0 in /usr/local/lib/python3.10/dist-packages (from mlflow->farm-haystack[all]) (7.1.0)\n",
            "Requirement already satisfied: graphene<4 in /usr/local/lib/python3.10/dist-packages (from mlflow->farm-haystack[all]) (3.3)\n",
            "Requirement already satisfied: matplotlib<4 in /usr/local/lib/python3.10/dist-packages (from mlflow->farm-haystack[all]) (3.7.1)\n",
            "Requirement already satisfied: pyarrow<16,>=4.0.0 in /usr/local/lib/python3.10/dist-packages (from mlflow->farm-haystack[all]) (14.0.2)\n",
            "Requirement already satisfied: querystring-parser<2 in /usr/local/lib/python3.10/dist-packages (from mlflow->farm-haystack[all]) (1.2.4)\n",
            "Requirement already satisfied: Jinja2<4,>=2.11 in /usr/local/lib/python3.10/dist-packages (from mlflow->farm-haystack[all]) (3.1.4)\n",
            "Requirement already satisfied: gunicorn<23 in /usr/local/lib/python3.10/dist-packages (from mlflow->farm-haystack[all]) (22.0.0)\n",
            "Requirement already satisfied: cachetools<6,>=5.0.0 in /usr/local/lib/python3.10/dist-packages (from mlflow-skinny==2.15.0->mlflow->farm-haystack[all]) (5.4.0)\n",
            "Requirement already satisfied: click<9,>=7.0 in /usr/local/lib/python3.10/dist-packages (from mlflow-skinny==2.15.0->mlflow->farm-haystack[all]) (8.1.7)\n",
            "Requirement already satisfied: cloudpickle<4 in /usr/local/lib/python3.10/dist-packages (from mlflow-skinny==2.15.0->mlflow->farm-haystack[all]) (2.2.1)\n",
            "Requirement already satisfied: databricks-sdk<1,>=0.20.0 in /usr/local/lib/python3.10/dist-packages (from mlflow-skinny==2.15.0->mlflow->farm-haystack[all]) (0.29.0)\n",
            "Requirement already satisfied: entrypoints<1 in /usr/local/lib/python3.10/dist-packages (from mlflow-skinny==2.15.0->mlflow->farm-haystack[all]) (0.4)\n",
            "Requirement already satisfied: gitpython<4,>=3.1.9 in /usr/local/lib/python3.10/dist-packages (from mlflow-skinny==2.15.0->mlflow->farm-haystack[all]) (3.1.43)\n",
            "Requirement already satisfied: importlib-metadata!=4.7.0,<8,>=3.7.0 in /usr/local/lib/python3.10/dist-packages (from mlflow-skinny==2.15.0->mlflow->farm-haystack[all]) (7.2.1)\n",
            "Requirement already satisfied: opentelemetry-api<3,>=1.9.0 in /usr/local/lib/python3.10/dist-packages (from mlflow-skinny==2.15.0->mlflow->farm-haystack[all]) (1.26.0)\n",
            "Requirement already satisfied: opentelemetry-sdk<3,>=1.9.0 in /usr/local/lib/python3.10/dist-packages (from mlflow-skinny==2.15.0->mlflow->farm-haystack[all]) (1.26.0)\n",
            "Requirement already satisfied: pytz<2025 in /usr/local/lib/python3.10/dist-packages (from mlflow-skinny==2.15.0->mlflow->farm-haystack[all]) (2024.1)\n",
            "Requirement already satisfied: sqlparse<1,>=0.4.0 in /usr/local/lib/python3.10/dist-packages (from mlflow-skinny==2.15.0->mlflow->farm-haystack[all]) (0.5.1)\n",
            "Requirement already satisfied: tzdata>=2022.1 in /usr/local/lib/python3.10/dist-packages (from pandas->farm-haystack[all]) (2024.1)\n",
            "Requirement already satisfied: monotonic>=1.5 in /usr/local/lib/python3.10/dist-packages (from posthog->farm-haystack[all]) (1.6)\n",
            "Requirement already satisfied: backoff>=1.10.0 in /usr/local/lib/python3.10/dist-packages (from posthog->farm-haystack[all]) (2.2.1)\n",
            "Requirement already satisfied: lxml>=3.1.0 in /usr/local/lib/python3.10/dist-packages (from python-docx->farm-haystack[all]) (4.9.4)\n",
            "Requirement already satisfied: XlsxWriter>=0.5.7 in /usr/local/lib/python3.10/dist-packages (from python-pptx->farm-haystack[all]) (3.2.0)\n",
            "Requirement already satisfied: inflect in /usr/local/lib/python3.10/dist-packages (from quantulum3->farm-haystack[all]) (7.3.1)\n",
            "Requirement already satisfied: num2words in /usr/local/lib/python3.10/dist-packages (from quantulum3->farm-haystack[all]) (0.5.13)\n",
            "Requirement already satisfied: setuptools in /usr/local/lib/python3.10/dist-packages (from tika->farm-haystack[all]) (71.0.4)\n",
            "Requirement already satisfied: psutil in /usr/local/lib/python3.10/dist-packages (from accelerate>=0.21.0->transformers[sentencepiece,torch]==4.39.3; extra == \"all\"->farm-haystack[all]) (5.9.5)\n",
            "Requirement already satisfied: Mako in /usr/local/lib/python3.10/dist-packages (from alembic!=1.10.0,<2->mlflow->farm-haystack[all]) (1.3.5)\n",
            "Requirement already satisfied: cryptography in /usr/local/lib/python3.10/dist-packages (from authlib<2.0.0,>=1.3.1->weaviate-client>2->farm-haystack[all]) (42.0.8)\n",
            "Requirement already satisfied: exceptiongroup>=1.1.1 in /usr/local/lib/python3.10/dist-packages (from cattrs>=22.2->requests-cache<1.0.0->farm-haystack[all]) (1.2.2)\n",
            "Requirement already satisfied: Werkzeug>=2.2.2 in /usr/local/lib/python3.10/dist-packages (from Flask<4->mlflow->farm-haystack[all]) (3.0.3)\n",
            "Requirement already satisfied: itsdangerous>=2.0 in /usr/local/lib/python3.10/dist-packages (from Flask<4->mlflow->farm-haystack[all]) (2.2.0)\n",
            "Requirement already satisfied: graphql-core<3.3,>=3.1 in /usr/local/lib/python3.10/dist-packages (from graphene<4->mlflow->farm-haystack[all]) (3.2.3)\n",
            "Requirement already satisfied: graphql-relay<3.3,>=3.1 in /usr/local/lib/python3.10/dist-packages (from graphene<4->mlflow->farm-haystack[all]) (3.2.0)\n",
            "Requirement already satisfied: aniso8601<10,>=8 in /usr/local/lib/python3.10/dist-packages (from graphene<4->mlflow->farm-haystack[all]) (9.0.1)\n",
            "Requirement already satisfied: MarkupSafe>=2.0 in /usr/local/lib/python3.10/dist-packages (from Jinja2<4,>=2.11->mlflow->farm-haystack[all]) (2.1.5)\n",
            "Requirement already satisfied: contourpy>=1.0.1 in /usr/local/lib/python3.10/dist-packages (from matplotlib<4->mlflow->farm-haystack[all]) (1.2.1)\n",
            "Requirement already satisfied: cycler>=0.10 in /usr/local/lib/python3.10/dist-packages (from matplotlib<4->mlflow->farm-haystack[all]) (0.12.1)\n",
            "Requirement already satisfied: fonttools>=4.22.0 in /usr/local/lib/python3.10/dist-packages (from matplotlib<4->mlflow->farm-haystack[all]) (4.53.1)\n",
            "Requirement already satisfied: kiwisolver>=1.0.1 in /usr/local/lib/python3.10/dist-packages (from matplotlib<4->mlflow->farm-haystack[all]) (1.4.5)\n",
            "Requirement already satisfied: pyparsing>=2.3.1 in /usr/local/lib/python3.10/dist-packages (from matplotlib<4->mlflow->farm-haystack[all]) (3.1.2)\n",
            "Requirement already satisfied: isodate>=0.6.0 in /usr/local/lib/python3.10/dist-packages (from msrest>=0.6.21->azure-ai-formrecognizer>=3.2.0b2->farm-haystack[all]) (0.6.1)\n",
            "Requirement already satisfied: requests-oauthlib>=0.5.0 in /usr/local/lib/python3.10/dist-packages (from msrest>=0.6.21->azure-ai-formrecognizer>=3.2.0b2->farm-haystack[all]) (1.3.1)\n",
            "Requirement already satisfied: sympy in /usr/local/lib/python3.10/dist-packages (from torch->transformers[sentencepiece,torch]==4.39.3; extra == \"all\"->farm-haystack[all]) (1.13.1)\n",
            "Requirement already satisfied: nvidia-cuda-nvrtc-cu12==12.1.105 in /usr/local/lib/python3.10/dist-packages (from torch->transformers[sentencepiece,torch]==4.39.3; extra == \"all\"->farm-haystack[all]) (12.1.105)\n",
            "Requirement already satisfied: nvidia-cuda-runtime-cu12==12.1.105 in /usr/local/lib/python3.10/dist-packages (from torch->transformers[sentencepiece,torch]==4.39.3; extra == \"all\"->farm-haystack[all]) (12.1.105)\n",
            "Requirement already satisfied: nvidia-cuda-cupti-cu12==12.1.105 in /usr/local/lib/python3.10/dist-packages (from torch->transformers[sentencepiece,torch]==4.39.3; extra == \"all\"->farm-haystack[all]) (12.1.105)\n",
            "Requirement already satisfied: nvidia-cudnn-cu12==8.9.2.26 in /usr/local/lib/python3.10/dist-packages (from torch->transformers[sentencepiece,torch]==4.39.3; extra == \"all\"->farm-haystack[all]) (8.9.2.26)\n",
            "Requirement already satisfied: nvidia-cublas-cu12==12.1.3.1 in /usr/local/lib/python3.10/dist-packages (from torch->transformers[sentencepiece,torch]==4.39.3; extra == \"all\"->farm-haystack[all]) (12.1.3.1)\n",
            "Requirement already satisfied: nvidia-cufft-cu12==11.0.2.54 in /usr/local/lib/python3.10/dist-packages (from torch->transformers[sentencepiece,torch]==4.39.3; extra == \"all\"->farm-haystack[all]) (11.0.2.54)\n",
            "Requirement already satisfied: nvidia-curand-cu12==10.3.2.106 in /usr/local/lib/python3.10/dist-packages (from torch->transformers[sentencepiece,torch]==4.39.3; extra == \"all\"->farm-haystack[all]) (10.3.2.106)\n",
            "Requirement already satisfied: nvidia-cusolver-cu12==11.4.5.107 in /usr/local/lib/python3.10/dist-packages (from torch->transformers[sentencepiece,torch]==4.39.3; extra == \"all\"->farm-haystack[all]) (11.4.5.107)\n",
            "Requirement already satisfied: nvidia-cusparse-cu12==12.1.0.106 in /usr/local/lib/python3.10/dist-packages (from torch->transformers[sentencepiece,torch]==4.39.3; extra == \"all\"->farm-haystack[all]) (12.1.0.106)\n",
            "Requirement already satisfied: nvidia-nccl-cu12==2.20.5 in /usr/local/lib/python3.10/dist-packages (from torch->transformers[sentencepiece,torch]==4.39.3; extra == \"all\"->farm-haystack[all]) (2.20.5)\n",
            "Requirement already satisfied: nvidia-nvtx-cu12==12.1.105 in /usr/local/lib/python3.10/dist-packages (from torch->transformers[sentencepiece,torch]==4.39.3; extra == \"all\"->farm-haystack[all]) (12.1.105)\n",
            "Requirement already satisfied: nvidia-nvjitlink-cu12 in /usr/local/lib/python3.10/dist-packages (from nvidia-cusolver-cu12==11.4.5.107->torch->transformers[sentencepiece,torch]==4.39.3; extra == \"all\"->farm-haystack[all]) (12.5.82)\n",
            "Requirement already satisfied: sortedcontainers in /usr/local/lib/python3.10/dist-packages (from trio~=0.17->selenium>=4.11.0->farm-haystack[all]) (2.4.0)\n",
            "Requirement already satisfied: outcome in /usr/local/lib/python3.10/dist-packages (from trio~=0.17->selenium>=4.11.0->farm-haystack[all]) (1.3.0.post0)\n",
            "Requirement already satisfied: wsproto>=0.14 in /usr/local/lib/python3.10/dist-packages (from trio-websocket~=0.9->selenium>=4.11.0->farm-haystack[all]) (1.2.0)\n",
            "Requirement already satisfied: PySocks!=1.5.7,<2.0,>=1.5.6 in /usr/local/lib/python3.10/dist-packages (from urllib3[socks]<3,>=1.26->selenium>=4.11.0->farm-haystack[all]) (1.7.1)\n",
            "Requirement already satisfied: typeguard>=4.0.1 in /usr/local/lib/python3.10/dist-packages (from inflect->quantulum3->farm-haystack[all]) (4.3.0)\n",
            "Requirement already satisfied: docopt>=0.6.2 in /usr/local/lib/python3.10/dist-packages (from num2words->quantulum3->farm-haystack[all]) (0.6.2)\n",
            "Requirement already satisfied: llvmlite<0.44,>=0.43.0dev0 in /usr/local/lib/python3.10/dist-packages (from numba->openai-whisper>=20231106->farm-haystack[all]) (0.43.0)\n",
            "Requirement already satisfied: google-auth~=2.0 in /usr/local/lib/python3.10/dist-packages (from databricks-sdk<1,>=0.20.0->mlflow-skinny==2.15.0->mlflow->farm-haystack[all]) (2.27.0)\n",
            "Requirement already satisfied: gitdb<5,>=4.0.1 in /usr/local/lib/python3.10/dist-packages (from gitpython<4,>=3.1.9->mlflow-skinny==2.15.0->mlflow->farm-haystack[all]) (4.0.11)\n",
            "Requirement already satisfied: zipp>=0.5 in /usr/local/lib/python3.10/dist-packages (from importlib-metadata!=4.7.0,<8,>=3.7.0->mlflow-skinny==2.15.0->mlflow->farm-haystack[all]) (3.19.2)\n",
            "Requirement already satisfied: deprecated>=1.2.6 in /usr/local/lib/python3.10/dist-packages (from opentelemetry-api<3,>=1.9.0->mlflow-skinny==2.15.0->mlflow->farm-haystack[all]) (1.2.14)\n",
            "Requirement already satisfied: opentelemetry-semantic-conventions==0.47b0 in /usr/local/lib/python3.10/dist-packages (from opentelemetry-sdk<3,>=1.9.0->mlflow-skinny==2.15.0->mlflow->farm-haystack[all]) (0.47b0)\n",
            "Requirement already satisfied: oauthlib>=3.0.0 in /usr/local/lib/python3.10/dist-packages (from requests-oauthlib>=0.5.0->msrest>=0.6.21->azure-ai-formrecognizer>=3.2.0b2->farm-haystack[all]) (3.2.2)\n",
            "Requirement already satisfied: cffi>=1.12 in /usr/local/lib/python3.10/dist-packages (from cryptography->authlib<2.0.0,>=1.3.1->weaviate-client>2->farm-haystack[all]) (1.16.0)\n",
            "Requirement already satisfied: mpmath<1.4,>=1.1.0 in /usr/local/lib/python3.10/dist-packages (from sympy->torch->transformers[sentencepiece,torch]==4.39.3; extra == \"all\"->farm-haystack[all]) (1.3.0)\n",
            "Requirement already satisfied: pycparser in /usr/local/lib/python3.10/dist-packages (from cffi>=1.12->cryptography->authlib<2.0.0,>=1.3.1->weaviate-client>2->farm-haystack[all]) (2.22)\n",
            "Requirement already satisfied: wrapt<2,>=1.10 in /usr/local/lib/python3.10/dist-packages (from deprecated>=1.2.6->opentelemetry-api<3,>=1.9.0->mlflow-skinny==2.15.0->mlflow->farm-haystack[all]) (1.16.0)\n",
            "Requirement already satisfied: smmap<6,>=3.0.1 in /usr/local/lib/python3.10/dist-packages (from gitdb<5,>=4.0.1->gitpython<4,>=3.1.9->mlflow-skinny==2.15.0->mlflow->farm-haystack[all]) (5.0.1)\n",
            "Requirement already satisfied: pyasn1-modules>=0.2.1 in /usr/local/lib/python3.10/dist-packages (from google-auth~=2.0->databricks-sdk<1,>=0.20.0->mlflow-skinny==2.15.0->mlflow->farm-haystack[all]) (0.4.0)\n",
            "Requirement already satisfied: rsa<5,>=3.1.4 in /usr/local/lib/python3.10/dist-packages (from google-auth~=2.0->databricks-sdk<1,>=0.20.0->mlflow-skinny==2.15.0->mlflow->farm-haystack[all]) (4.9)\n",
            "Requirement already satisfied: pyasn1<0.7.0,>=0.4.6 in /usr/local/lib/python3.10/dist-packages (from pyasn1-modules>=0.2.1->google-auth~=2.0->databricks-sdk<1,>=0.20.0->mlflow-skinny==2.15.0->mlflow->farm-haystack[all]) (0.6.0)\n"
          ]
        }
      ]
    },
    {
      "cell_type": "code",
      "source": [
        "from haystack.nodes import PreProcessor\n",
        "from haystack.document_stores import FAISSDocumentStore\n",
        "from haystack.nodes import EmbeddingRetriever\n",
        "from haystack.nodes import PromptNode\n",
        "from haystack import Pipeline"
      ],
      "metadata": {
        "id": "5QwwbnXxU4Eo"
      },
      "execution_count": null,
      "outputs": []
    },
    {
      "cell_type": "markdown",
      "source": [
        "### **Build a Search Engine with GPT-3**\n",
        "\n",
        "If you’ve been online lately, you’ve likely seen the excitement about OpenAI’s newest language model, ChatGPT. ChatGPT is astonishingly good at many things, including debugging code and rewriting text in whatever style you ask it. As an offshoot of GPT-3.5, a large language model (LLM) with billions of parameters, ChatGPT owes its impressive knowledge to the fact that it’s seen a large portion of the internet during training — in the form of the Common Crawl corpus and other data.\n",
        "\n",
        "Chatbots are understandable that people are excited by a language model that can hold a conversation and create a solid semblance of intelligence. But we need to stay critical when it comes to the validity of answers generated by these models. LLMs especially are prone to hallucinations: producing text that sounds sensible at first but doesn’t hold up to closer scrutiny and presenting things as facts that are made up entirely.\n",
        "Semantic search engines — our specialty at deepset — are often powered by extractive question-answering models. These models return verbatim snippets from the knowledge base rather than generating text from scratch the way ChatGPT does.\n",
        "\n",
        "[Haystack](https://docs.haystack.deepset.ai/docs/intro), deepset’s open-source framework for applied natural language processing (NLP), allows you to leverage multiple GPT models in your pipeline. With this approach, you can build a GPT-powered semantic search engine that uses your data as ground truth and bases its natural-language answers on the information it contains. Besides providing a comfortable entry point to the OpenAI API, Haystack offers all the other components you need to successfully implement an end-to-end NLP system with GPT: a vector database, a module for retrieval, and the pipeline that combines all those elements into one queryable system."
      ],
      "metadata": {
        "id": "MvlNl5LUWtsA"
      }
    },
    {
      "cell_type": "markdown",
      "source": [
        "### **The advent of large language models**\n",
        "\n",
        "But while the largest BERT model has 336 million parameters, OpenAI’s largest GPT-3.5 model — which ChatGPT is based on — has 520 times as many.\n",
        "\n",
        "From observation, we can say that GPT is exceptionally good at understanding implication and intent. It can remember what’s been discussed earlier in the conversation, including figuring out what you’re referring to with words like “he” or “before that,” It can tell you when your question doesn’t make sense. All of these properties account for the increased importance of actual intelligence. It also has to generate language from scratch, a much more challenging task than returning the correct section from a corpus."
      ],
      "metadata": {
        "id": "MHXPZfZsW2iR"
      }
    },
    {
      "cell_type": "markdown",
      "source": [
        "### **Different types of search engines**\n",
        "\n",
        "Semantic search engines come in different varieties and can roughly be distinguished by the type of answer they return. The answers could consist of matching documents (in document search), answer spans (in extractive QA), or newly generated answers (in generative QA)."
      ],
      "metadata": {
        "id": "JKkR9y0cW3gi"
      }
    },
    {
      "cell_type": "markdown",
      "source": [
        "### **The GenerativeQAPipeline: Haystack’s component for a generative search engine**\n",
        "\n",
        "In this lab, we use the GenerativeQAPipeline. It consists of a retriever (to find relevant documents) and a generator (to write the text) chained together. The retriever connects to the database. Like the generator, it is often (but not necessarily) based on a Transformer model. Its task is to retrieve the documents from the database that are most likely to contain valuable information based on a user’s input query."
      ],
      "metadata": {
        "id": "SnFE_-pSW8mD"
      }
    },
    {
      "cell_type": "code",
      "source": [
        "# VALIDATION_FIELD[str] Download_articles\n",
        "# Download artices from Wikipedia\n",
        "\n",
        "import wget\n",
        "import zipfile\n",
        "\n",
        "wget.download('https://dru.fra1.digitaloceanspaces.com/DL_pytorch/datasets/07_attention_transformers/GPT-3/wikipedia_articles.zip')\n",
        "with zipfile.ZipFile(\"wikipedia_articles.zip\",\"r\") as zip_ref:\n",
        "    zip_ref.extractall(\"\")"
      ],
      "metadata": {
        "id": "jJ4VtzgPXLLZ"
      },
      "execution_count": null,
      "outputs": []
    },
    {
      "cell_type": "markdown",
      "source": [
        ">**Task**:\n",
        "* Open the file in read mode with UTF-8 encoding and read its content\n",
        "* Create a document dictionary with 'content' and 'meta' keys\n",
        "* Append the document dictionary with 'content' and 'meta' keys\n",
        "\n"
      ],
      "metadata": {
        "id": "adfqyKgI3pTM"
      }
    },
    {
      "cell_type": "code",
      "source": [
        "# VALIDATION_FIELD[func] Read_documents\n",
        "\n",
        "# init files/articles\n",
        "wiki_files_path = Config.wiki_article_path\n",
        "article_titles = Config.article_titles\n",
        "\n",
        "def read_documents(folder_path, article_titles):\n",
        "    docs = []\n",
        "    for title in article_titles:\n",
        "        #print(title)\n",
        "        file_path = os.path.join(folder_path, f\"{title}.txt\")\n",
        "        ### START CODE HERE ###\n",
        "        with open(file_path, 'r', encoding='utf-8') as f:\n",
        "            content = f.read()\n",
        "            doc = {'content': content, 'meta': {'title': title}}\n",
        "            docs.append(doc)\n",
        "        ### END CODE HERE ###\n",
        "    return docs\n",
        "\n",
        "docs = read_documents(wiki_files_path, article_titles)\n",
        "# for doc in docs:\n",
        "#   print(doc)"
      ],
      "metadata": {
        "id": "ESEWVYQdbBiq"
      },
      "execution_count": null,
      "outputs": []
    },
    {
      "cell_type": "markdown",
      "source": [
        "#### Preprocessing Documents\n",
        "\n",
        "Use the PreProcessor from the Haystack library to split and clean the documents.\n",
        "\n",
        "> **Task:**\n",
        "> 1. Initialize FAISS Document Store:\n",
        "  - A FAISS Document Store is already initialized with a `Flat index factory string`.\n",
        "2. Initialize PreProcessor with the following parameters:\n",
        "  - `clean_empty_lines`: Removes empty lines from the documents.\n",
        "  - `clean_whitespace`: Cleans up extra whitespace.\n",
        "  - `clean_header_footer`: Removes headers and footers.\n",
        "  - `split_by`: Splits documents by words.\n",
        "  - `split_length`: Each split should have a length of 200 words.\n",
        "  - `split_respect_sentence_boundary`: Ensures splits respect sentence boundaries.\n",
        "3. Process Documents:\n",
        "  - Use the initialized `PreProcessor` to process the docs variable (a list of documents).\n",
        "4. Write Documents to FAISS Document Store:\n",
        "  - Write the processed documents to the FAISS Document Store.\n",
        "\n",
        "\n"
      ],
      "metadata": {
        "id": "llVdd_8ibycm"
      }
    },
    {
      "cell_type": "code",
      "source": [
        "# VALIDATION_FIELD[str] Preprocessing_documents\n",
        "\n",
        "### START CODE HERE ###\n",
        "# Initialize FAISS Document Store\n",
        "document_store = FAISSDocumentStore()\n",
        "\n",
        "# Initialize PreProcessor\n",
        "preprocessor = PreProcessor(clean_empty_lines=True,\n",
        "                            clean_whitespace=True,\n",
        "                            clean_header_footer=True,\n",
        "                            split_by='word',\n",
        "                            split_length=200,\n",
        "                            split_respect_sentence_boundary=True)\n",
        "\n",
        "# Process documents\n",
        "processed_docs = preprocessor.process(docs)\n",
        "# Write documents\n",
        "document_store.write_documents(processed_docs)\n",
        "### END CODE HERE ###\n",
        "\n",
        "print(\"\\nDocuments have been successfully preprocessed and stored.\")"
      ],
      "metadata": {
        "id": "VgRu64RNcCkG",
        "colab": {
          "base_uri": "https://localhost:8080/"
        },
        "outputId": "0e191001-6109-4da3-babf-7be717e1d2a7"
      },
      "execution_count": null,
      "outputs": [
        {
          "output_type": "stream",
          "name": "stderr",
          "text": [
            "[nltk_data] Downloading package punkt to /root/nltk_data...\n",
            "[nltk_data]   Unzipping tokenizers/punkt.zip.\n",
            "Preprocessing:   0%|          | 0/17 [00:00<?, ?docs/s]WARNING:haystack.nodes.preprocessor.preprocessor:We found one or more sentences whose split count is higher than the split length.\n",
            "Preprocessing: 100%|██████████| 17/17 [00:00<00:00, 17.38docs/s]\n",
            "Writing Documents: 10000it [00:02, 4733.13it/s]"
          ]
        },
        {
          "output_type": "stream",
          "name": "stdout",
          "text": [
            "\n",
            "Documents have been successfully preprocessed and stored.\n"
          ]
        },
        {
          "output_type": "stream",
          "name": "stderr",
          "text": [
            "\n"
          ]
        }
      ]
    },
    {
      "cell_type": "markdown",
      "source": [
        "#### Initializing the Document Store\n",
        "\n",
        "> **Task:**\n",
        ">\n",
        "> 1. Set Embedding Dimension:\n",
        "  - Set the embedding_dim to `1536` as per the model requirements.\n",
        "> 2. Remove Existing FAISS Document Store:\n",
        ">  - If a file named `faiss_document_store.db exists, remove it` to ensure a fresh start.\n",
        "3. Initialize FAISS Document Store:\n",
        "  - Initialize the FAISS Document Store with the `Flat index factory string` and `the specified embedding dimension`.\n"
      ],
      "metadata": {
        "id": "vj9sfkG6ewf_"
      }
    },
    {
      "cell_type": "code",
      "source": [
        "# VALIDATION_FIELD[str]: Initializing_document_store\n",
        "\n",
        "### START CODE HERE ###\n",
        "# Set embedding dimension according to the model\n",
        "embedding_dim = 1536\n",
        "\n",
        "# Remove existing FAISS document store if exists\n",
        "if os.path.exists(\"faiss_document_store.db\"):\n",
        "  os.remove(\"faiss_document_store.db\")\n",
        "\n",
        "\n",
        "# Initialize FAISS Document Store with specified embedding dimension\n",
        "document_store = FAISSDocumentStore(faiss_index_factory_str='Flat', embedding_dim=embedding_dim)\n",
        "### END CODE HERE ###"
      ],
      "metadata": {
        "id": "5wjqdHMUe0nX"
      },
      "execution_count": null,
      "outputs": []
    },
    {
      "cell_type": "markdown",
      "source": [
        "#### Deleting Existing Documents and Adding New Ones\n",
        "\n",
        "Delete any existing documents in the database and add the preprocessed documents."
      ],
      "metadata": {
        "id": "9yowOK_qe_MJ"
      }
    },
    {
      "cell_type": "code",
      "source": [
        "# VALIDATION_FIELD[str] Rewrite_preprocessed_documents\n",
        "\n",
        "document_store.delete_documents()\n",
        "document_store.write_documents(processed_docs)"
      ],
      "metadata": {
        "id": "Wh0M4cIQfCjJ",
        "colab": {
          "base_uri": "https://localhost:8080/"
        },
        "outputId": "68868075-d749-411c-f830-c47d490c65b3"
      },
      "execution_count": null,
      "outputs": [
        {
          "output_type": "stream",
          "name": "stderr",
          "text": [
            "Writing Documents: 10000it [00:00, 12476.84it/s]\n"
          ]
        }
      ]
    },
    {
      "cell_type": "markdown",
      "source": [
        "#### Setting Up the Retriever\n",
        "\n",
        ">**Task:**\n",
        ">\n",
        "> Initialize the `EmbeddingRetriever` with the following parameters:\n",
        " - `document_store`: The FAISS Document Store instance.\n",
        " - `embedding_model`: Set to `\"text-embedding-ada-002\"`.\n",
        " - `api_key`: The OpenAI API key from the Config class.\n",
        " - `batch_size`: Set to 32.\n",
        " - `max_seq_len`: Set to 2048."
      ],
      "metadata": {
        "id": "JhSCe4UufGvt"
      }
    },
    {
      "cell_type": "code",
      "source": [
        "# VALIDATION_FIELD[str] Initialize_retriewer\n",
        "\n",
        "# Initialize Retriever with OpenAI's embedding model\n",
        "### START CODE HERE ###\n",
        "retriever = EmbeddingRetriever(document_store=document_store,\n",
        "                               embedding_model=\"text-embedding-ada-002\",\n",
        "                               api_key=Config.openai_api_key,\n",
        "                               batch_size=32,\n",
        "                               max_seq_len=2048)\n",
        "### END CODE HERE ###\n",
        "\n",
        "# Update embeddings in the document store\n",
        "document_store.update_embeddings(retriever)\n"
      ],
      "metadata": {
        "id": "2A4aRKdFfQiF",
        "colab": {
          "base_uri": "https://localhost:8080/"
        },
        "outputId": "4bfb1d9f-1e32-466c-8289-bd43eb79dc65"
      },
      "execution_count": null,
      "outputs": [
        {
          "output_type": "stream",
          "name": "stderr",
          "text": [
            "Calculating embeddings: 100%|██████████| 1/1 [00:00<00:00,  6.10it/s]\n",
            "Updating Embedding:   0%|          | 0/300 [00:00<?, ? docs/s]\n",
            "Calculating embeddings:   0%|          | 0/10 [00:00<?, ?it/s]\u001b[A\n",
            "Calculating embeddings:  10%|█         | 1/10 [00:00<00:04,  2.08it/s]\u001b[A\n",
            "Calculating embeddings:  20%|██        | 2/10 [00:01<00:04,  1.81it/s]\u001b[A\n",
            "Calculating embeddings:  30%|███       | 3/10 [00:01<00:03,  1.88it/s]\u001b[A\n",
            "Calculating embeddings:  40%|████      | 4/10 [00:02<00:03,  1.75it/s]\u001b[A\n",
            "Calculating embeddings:  50%|█████     | 5/10 [00:02<00:02,  1.86it/s]\u001b[A\n",
            "Calculating embeddings:  60%|██████    | 6/10 [00:03<00:02,  1.76it/s]\u001b[A\n",
            "Calculating embeddings:  70%|███████   | 7/10 [00:03<00:01,  1.85it/s]\u001b[A\n",
            "Calculating embeddings:  80%|████████  | 8/10 [00:04<00:01,  1.83it/s]\u001b[A\n",
            "Calculating embeddings:  90%|█████████ | 9/10 [00:04<00:00,  1.84it/s]\u001b[A\n",
            "Calculating embeddings: 100%|██████████| 10/10 [00:05<00:00,  1.91it/s]\n",
            "Documents Processed: 10000 docs [00:05, 1874.08 docs/s]\n"
          ]
        }
      ]
    },
    {
      "cell_type": "markdown",
      "source": [
        "#### Setting Up the Generator\n",
        "\n",
        "You are given a partially implemented script that initializes a PromptNode for text generation using OpenAI's GPT-4 model. Your task is to complete the script by initializing the PromptNode with the model name and API key. Follow the instructions below:\n",
        "\n",
        "> **Task:**\n",
        "> - Use the `PromptNode` class from haystack.nodes.\n",
        "> - Set the model name to `\"gpt-4\"`.\n",
        "> - Retrieve the OpenAI API key from the Config class (`Config.openai_api_key)`"
      ],
      "metadata": {
        "id": "BcQzFpdofnQz"
      }
    },
    {
      "cell_type": "code",
      "source": [
        "# VALIDATION_FIELD[str] Initialize_generator\n",
        "\n",
        "# Initialize Generator with GPT-4 model\n",
        "### START CODE HERE ###\n",
        "generator = PromptNode(model_name_or_path=\"gpt-4\", api_key=Config.openai_api_key)\n",
        "### END CODE HERE ###"
      ],
      "metadata": {
        "id": "Tp-RPq1e5oFO"
      },
      "execution_count": null,
      "outputs": []
    },
    {
      "cell_type": "markdown",
      "source": [
        "#### Create a Custom Pipeline:\n",
        "\n",
        "> **Task:**\n",
        "> Use the `Pipeline` class from the haystack module to create a new pipeline instance.\n",
        "> 1. Add the retriever node to the pipeline:\n",
        "  - Set the `component` to the `retriever` instance.\n",
        "  - Set the name to `\"Retriever\"`.\n",
        "  - Set the inputs to `[\"Query\"]`.\n",
        "2. Add the generator node to the pipeline:\n",
        "  - Set the `component` to the `generator` instance.\n",
        "  - Set the name to `\"Generator\"`.\n",
        "  - Set the inputs to `[\"Retriever\"]`."
      ],
      "metadata": {
        "id": "UWOLOf8K7_64"
      }
    },
    {
      "cell_type": "code",
      "source": [
        "# VALIDATION_FIELD[str] Create_pipeline\n",
        "\n",
        "# Create a custom pipeline and add the retriever and generator nodes\n",
        "### START CODE HERE ###\n",
        "pipeline = Pipeline()\n",
        "pipeline.add_node(component=retriever, name=\"Retriever\", inputs=[\"Query\"])\n",
        "pipeline.add_node(component=generator, name=\"Generator\", inputs=[\"Retriever\"])\n",
        "### END CODE HERE ###"
      ],
      "metadata": {
        "id": "tZun8Pri8Ab-"
      },
      "execution_count": null,
      "outputs": []
    },
    {
      "cell_type": "code",
      "source": [
        "pipeline.components"
      ],
      "metadata": {
        "id": "2IPpCLvElxTT",
        "colab": {
          "base_uri": "https://localhost:8080/"
        },
        "outputId": "6b47f244-c747-4296-bec4-83f2d592e557"
      },
      "execution_count": null,
      "outputs": [
        {
          "output_type": "execute_result",
          "data": {
            "text/plain": [
              "{'FAISSDocumentStore': <haystack.document_stores.faiss.FAISSDocumentStore at 0x7981336f27d0>,\n",
              " 'Generator': <haystack.nodes.prompt.prompt_node.PromptNode at 0x7981324842e0>,\n",
              " 'Retriever': <haystack.nodes.retriever.dense.EmbeddingRetriever at 0x798132497370>}"
            ]
          },
          "metadata": {},
          "execution_count": 15
        }
      ]
    },
    {
      "cell_type": "markdown",
      "source": [
        "Expected output:\n",
        "\n",
        "```\n",
        "{'Generator': <haystack.nodes.prompt.prompt_node.PromptNode at 0x0000>,\n",
        " 'FAISSDocumentStore': <haystack.document_stores.faiss.FAISSDocumentStore at 0x0000>,\n",
        " 'Retriever': <haystack.nodes.retriever.dense.EmbeddingRetriever at 0x0000>}\n",
        "```"
      ],
      "metadata": {
        "id": "V95TusCek6YL"
      }
    },
    {
      "cell_type": "code",
      "source": [
        "# Pass retriever results to generator and set max_tokens for longer completions\n",
        "query = 'Where is located Kyiv zoo?'\n",
        "generator_results = generator.prompt(query, documents=retriever, max_tokens=100)\n",
        "#print(generator_results)\n",
        "# If generator_results is a list of strings, create dictionaries with empty contexts\n",
        "formatted_results = [{\"answer\": query, \"context\": result} for result in generator_results]\n",
        "print(formatted_results)"
      ],
      "metadata": {
        "id": "xStYrIH-_pMq",
        "colab": {
          "base_uri": "https://localhost:8080/"
        },
        "outputId": "7b60a88d-f86a-4937-8571-5cceee32ea90"
      },
      "execution_count": null,
      "outputs": [
        {
          "output_type": "stream",
          "name": "stdout",
          "text": [
            "[{'answer': 'Where is located Kyiv zoo?', 'context': 'Kyiv Zoo is located in Kyiv, the capital of Ukraine. The exact address is Peremohy Ave, 32, Kyiv, Ukraine, 04116.'}]\n"
          ]
        }
      ]
    },
    {
      "cell_type": "markdown",
      "source": [
        "Expected result:\n",
        "\n",
        "```\n",
        "[{'answer': 'Where is located Kyiv zoo?',\n",
        "'context': 'Kyiv Zoo is located in Kyiv, the capital of Ukraine.\n",
        "The exact address is: Academician Bohdan Khmelnytsky Street, 1, Kyiv, Ukraine, 04060.'}]\n",
        "```\n",
        "> Note: The answer can be different but have the same meaning\n"
      ],
      "metadata": {
        "id": "Ka8sabYHmJ_w"
      }
    },
    {
      "cell_type": "markdown",
      "source": [
        "> **Task:** Implement a Function to Query the User Pipeline. Follow the instructions below:\n",
        "1. Perform Retrieval:\n",
        "  - Use the `retriever` instance to `retrieve` relevant documents based on the query.\n",
        "  - Set top_k to `the top_k_retriever` parameter (default is 5).\n",
        "2. Pass Retrieval Results to Generator:\n",
        "  - Use the `generator` instance to `prompt` a response based on the query and the retrieved documents.\n",
        "  - Set the max_tokens to the `max_tokens` parameter (default is 1000)."
      ],
      "metadata": {
        "id": "s3aD2oWdnZ0K"
      }
    },
    {
      "cell_type": "code",
      "source": [
        "# VALIDATION_FIELD[func] Query_pipeline\n",
        "\n",
        "# Function to query the user pipeline and print the answer\n",
        "\n",
        "### START CODE HERE ###\n",
        "def query_pipeline(query, top_k_retriever=5, max_tokens=1000):\n",
        "    # Performing retrieval\n",
        "    retriever_results = retriever.retrieve(query=query, top_k=top_k_retriever)\n",
        "    #print(f'Retriever Result: {retriever_results}')\n",
        "    res = ''.join([i.content for i in retriever_results])\n",
        "    #print(res)\n",
        "\n",
        "\n",
        "    # Passing retrieval results to the generator and setting max_tokens for longer completions\n",
        "    generator_results = generator.prompt(query, documents=res, max_tokens=100)\n",
        "  ### END CODE HERE ###\n",
        "\n",
        "    # Checking if generator_results is empty\n",
        "    if not generator_results:\n",
        "        print(\"No answers found.\")\n",
        "        return\n",
        "\n",
        "    # Print answers\n",
        "    print(generator_results)\n"
      ],
      "metadata": {
        "id": "RDfLG9Ey8dXN"
      },
      "execution_count": null,
      "outputs": []
    },
    {
      "cell_type": "code",
      "source": [
        "# VALIDATION_FIELD[str] Query_pipeline_first\n",
        "\n",
        "query_pipeline_first = query_pipeline(\"What is Kyiv known for?\")\n",
        "print(query_pipeline_first)"
      ],
      "metadata": {
        "id": "rFCk7bXZEI1-",
        "colab": {
          "base_uri": "https://localhost:8080/"
        },
        "outputId": "7002e39f-dd9c-42b5-e9fb-def5d5fa2c78"
      },
      "execution_count": null,
      "outputs": [
        {
          "output_type": "stream",
          "name": "stderr",
          "text": [
            "Calculating embeddings: 100%|██████████| 1/1 [00:00<00:00,  4.46it/s]\n",
            "WARNING:haystack.utils.openai_utils:1 out of the 1 completions have been truncated before reaching a natural stopping point. Increase the max_tokens parameter to allow for longer completions.\n"
          ]
        },
        {
          "output_type": "stream",
          "name": "stdout",
          "text": [
            "[\"Kyiv, the capital of Ukraine, is known for its religious architecture, historical monuments, and rich cultural history. Among its most famous landmarks are the Kyiv Pechersk Lavra (Caves Monastery), a UNESCO World Heritage Site, and St. Sophia's Cathedral, one of the city's best known symbols. Kyiv is also known for its role in the arts with many galleries, theatres and music events. Furthermore, it is home to several major universities and scientific institutions.\"]\n",
            "None\n"
          ]
        }
      ]
    },
    {
      "cell_type": "markdown",
      "source": [
        "Expected result:\n",
        "```\n",
        "[\"Kyiv, the capital of Ukraine, is known for its rich history, beautiful architecture ...\"]\n",
        "```\n",
        "> Note: The answer can be different but have the same meaning\n",
        "\n"
      ],
      "metadata": {
        "id": "xBdqGkiHokAI"
      }
    },
    {
      "cell_type": "code",
      "source": [
        "# VALIDATION_FIELD[str] Query_pipeline_second\n",
        "\n",
        "query_pipeline_second = query_pipeline(\"When is the best time to visit Kyiv?\")\n",
        "print(query_pipeline_second)"
      ],
      "metadata": {
        "id": "i3XqmSm7ESb0",
        "colab": {
          "base_uri": "https://localhost:8080/"
        },
        "outputId": "87a1d0fb-8ae9-46bb-837d-2ecce2b54967"
      },
      "execution_count": null,
      "outputs": [
        {
          "output_type": "stream",
          "name": "stderr",
          "text": [
            "Calculating embeddings: 100%|██████████| 1/1 [00:00<00:00,  3.89it/s]\n"
          ]
        },
        {
          "output_type": "stream",
          "name": "stdout",
          "text": [
            "['The best time to visit Kyiv is during the late spring (May to June) and early fall (September to October) when the weather is mild and the city is less crowded with tourists. During these months, you can enjoy outdoor activities and sightseeing. The city is particularly beautiful in May when many flowers are in bloom.']\n",
            "None\n"
          ]
        }
      ]
    },
    {
      "cell_type": "markdown",
      "source": [
        "Expected result:\n",
        "```\n",
        "['The best time to visit Kyiv, Ukraine is during late spring (April to June) and early autumn ...']\n",
        "```\n",
        "> Note: The answer can be different but have the same meaning"
      ],
      "metadata": {
        "id": "oAGrVJvUpjee"
      }
    },
    {
      "cell_type": "code",
      "source": [
        "# VALIDATION_FIELD[str] Query_pipeline_third\n",
        "\n",
        "query_pipeline_third = query_pipeline(\"Do people from Kyiv have their own culture?\")\n",
        "print(query_pipeline_third)"
      ],
      "metadata": {
        "id": "rLz1UiMOEUpE",
        "colab": {
          "base_uri": "https://localhost:8080/"
        },
        "outputId": "84c3c94c-86b8-48a7-a2a8-fe77b3e1eb7d"
      },
      "execution_count": null,
      "outputs": [
        {
          "output_type": "stream",
          "name": "stderr",
          "text": [
            "Calculating embeddings: 100%|██████████| 1/1 [00:00<00:00,  3.86it/s]\n",
            "WARNING:haystack.utils.openai_utils:1 out of the 1 completions have been truncated before reaching a natural stopping point. Increase the max_tokens parameter to allow for longer completions.\n"
          ]
        },
        {
          "output_type": "stream",
          "name": "stdout",
          "text": [
            "['Yes, people from Kyiv, the capital city of Ukraine, have their own distinct culture. This culture is a blend of both traditional Ukrainian elements and influences from other cultures, making it quite unique. It is characterized by a rich history, distinctive architecture, traditional music and dances, a love for arts and literature, and a vibrant food scene. Kyiv is also known for its cultural events, festivals, and a deep appreciation for its historical heritage. From their language, which is predominantly Ukrainian, to']\n",
            "None\n"
          ]
        }
      ]
    },
    {
      "cell_type": "markdown",
      "source": [
        "Expected result:\n",
        "\n",
        "```\n",
        "['Yes, people from Kyiv, the capital city of Ukraine, have their own distinctive culture. ...']\n",
        "```\n",
        "> Note: The answer can be different but have the same meaning"
      ],
      "metadata": {
        "id": "uAaXskj7p58l"
      }
    },
    {
      "cell_type": "code",
      "source": [
        "# VALIDATION_FIELD[str] Query_pipeline_four\n",
        "\n",
        "query_pipeline_four = query_pipeline(\"Tell me about some interesting places in Kyiv\")\n",
        "print(query_pipeline_four)"
      ],
      "metadata": {
        "id": "UW9W_NRxEZP9",
        "colab": {
          "base_uri": "https://localhost:8080/"
        },
        "outputId": "b4417665-1bdc-4e2b-c95d-a6adb2a974d8"
      },
      "execution_count": null,
      "outputs": [
        {
          "output_type": "stream",
          "name": "stderr",
          "text": [
            "Calculating embeddings: 100%|██████████| 1/1 [00:00<00:00,  4.79it/s]\n",
            "WARNING:haystack.utils.openai_utils:1 out of the 1 completions have been truncated before reaching a natural stopping point. Increase the max_tokens parameter to allow for longer completions.\n"
          ]
        },
        {
          "output_type": "stream",
          "name": "stdout",
          "text": [
            "['1. Kyiv Pechersk Lavra: Also known as the Kyiv Monastery of the Caves, it is a historic Orthodox Christian monastery that has been a preeminent center of Eastern Orthodox Christianity in Eastern Europe.\\n\\n2. Maidan Nezalezhnosti (Independence Square): This is the central square of Kyiv, the capital city of Ukraine. It has been the site of many political events, including the 2004 Orange Revolution and the 2013-14']\n",
            "None\n"
          ]
        }
      ]
    },
    {
      "cell_type": "markdown",
      "source": [
        "Expected result:\n",
        "\n",
        "```\n",
        "['1. Kyiv Pechersk Lavra: Also known as the Monastery of the Caves ...']\n",
        "```\n",
        "> Note: The answer can be different but have the same meaning"
      ],
      "metadata": {
        "id": "oIclAzCGqFXK"
      }
    },
    {
      "cell_type": "code",
      "source": [
        "# VALIDATION_FIELD[str] Query_pipeline_five\n",
        "\n",
        "query_pipeline_five = query_pipeline(\"How was the TV tower built?\")\n",
        "print(query_pipeline_five)"
      ],
      "metadata": {
        "id": "nqnHjwdUEbIy",
        "colab": {
          "base_uri": "https://localhost:8080/"
        },
        "outputId": "5dc97bd3-487b-425c-9423-7368dce79737"
      },
      "execution_count": null,
      "outputs": [
        {
          "output_type": "stream",
          "name": "stderr",
          "text": [
            "Calculating embeddings: 100%|██████████| 1/1 [00:00<00:00,  3.95it/s]\n",
            "WARNING:haystack.utils.openai_utils:1 out of the 1 completions have been truncated before reaching a natural stopping point. Increase the max_tokens parameter to allow for longer completions.\n"
          ]
        },
        {
          "output_type": "stream",
          "name": "stdout",
          "text": [
            "[\"The construction process of a TV tower varies depending on its design and specifications. However, here's a general outline of how most TV towers are built:\\n\\n1. Planning and Design: This involves creating a detailed blueprint of the tower, which includes its height, base width, antenna specifications, and more. Engineers also have to consider local weather conditions, earthquake risks, and wind speeds.\\n\\n2. Site Preparation: The construction site is cleared of any obstacles and leveled. Soil testing is conducted to ensure it can\"]\n",
            "None\n"
          ]
        }
      ]
    },
    {
      "cell_type": "markdown",
      "source": [
        "Expected result:\n",
        "\n",
        "```\n",
        "['The construction process of a TV tower can vary depending on the specific ...']\n",
        "```\n",
        "> Note: The answer can be different but have the same meaning"
      ],
      "metadata": {
        "id": "z5mD765ZqR1i"
      }
    },
    {
      "cell_type": "code",
      "source": [
        "# VALIDATION_FIELD[str] Query_pipeline_six\n",
        "\n",
        "query_pipeline_six = query_pipeline(\"Is Kyiv a good place for clubbing?\")\n",
        "print(query_pipeline_six)"
      ],
      "metadata": {
        "id": "AmA48yhMEfe1",
        "colab": {
          "base_uri": "https://localhost:8080/"
        },
        "outputId": "759af9d5-4b98-4a41-9053-0fe265edbb69"
      },
      "execution_count": null,
      "outputs": [
        {
          "output_type": "stream",
          "name": "stderr",
          "text": [
            "Calculating embeddings: 100%|██████████| 1/1 [00:00<00:00,  5.16it/s]\n"
          ]
        },
        {
          "output_type": "stream",
          "name": "stdout",
          "text": [
            "[\"Yes, Kyiv is known for its vibrant nightlife with a wide selection of clubs that cater to different tastes in music and atmosphere. Some of the popular clubs in Kyiv include Closer, Skybar, and D.Fleur. The city hosts many international DJs and events. However, as with any city, it's always important to be aware of your surroundings and stay safe while enjoying the nightlife.\"]\n",
            "None\n"
          ]
        }
      ]
    },
    {
      "cell_type": "markdown",
      "source": [
        "Expected result:\n",
        "\n",
        "```\n",
        "['Yes, Kyiv is known for its vibrant nightlife and is indeed a good place for clubbing ...']\n",
        "```\n",
        "> Note: The answer can be different but have the same meaning"
      ],
      "metadata": {
        "id": "NMKMxbwRqboM"
      }
    },
    {
      "cell_type": "markdown",
      "source": [
        "## **Section 3 - Fine-tune GPT**\n",
        "\n",
        "Fine-tuning is the process of training a [Large Language Model (LLM)](https://en.wikipedia.org/wiki/Large_language_model) to recognize a specific pattern of input and output that can be applied to any custom NLP task.\n",
        "\n",
        "Taken from the [official docs](https://platform.openai.com/docs/guides/fine-tuning), fine-tuning lets you get more out of the GPT-3 models by providing the following:\n",
        "* Higher quality results than prompt design\n",
        "* Ability to train on more examples than can fit in a * prompt\n",
        "* Token savings due to shorter prompts\n",
        "* Lower latency requests\n",
        "\n",
        "Fine-tuning involves the following steps:\n",
        "* Prepare and upload training data\n",
        "* Train a new fine-tuned model\n",
        "* Use your fine-tuned model"
      ],
      "metadata": {
        "id": "03UHzI3ZEnCS"
      }
    },
    {
      "cell_type": "code",
      "source": [
        "# VALIDATION_FIELD[str] Download_dataset\n",
        "import wget\n",
        "wget.download('https://dru.fra1.digitaloceanspaces.com/DL_pytorch/datasets/07_attention_transformers/GPT-3/QA_DataRoot_Labs.csv')"
      ],
      "metadata": {
        "id": "4iiIJsVqOYj-",
        "colab": {
          "base_uri": "https://localhost:8080/",
          "height": 35
        },
        "outputId": "4951de5f-8e3e-4630-cb75-f42cb2df913f"
      },
      "execution_count": null,
      "outputs": [
        {
          "output_type": "execute_result",
          "data": {
            "text/plain": [
              "'QA_DataRoot_Labs (1).csv'"
            ],
            "application/vnd.google.colaboratory.intrinsic+json": {
              "type": "string"
            }
          },
          "metadata": {},
          "execution_count": 63
        }
      ]
    },
    {
      "cell_type": "code",
      "source": [
        "data = pd.read_csv('QA_DataRoot_Labs.csv')\n",
        "\n",
        "print('Prompt:', data.iloc[0]['prompt'])\n",
        "print('Completion:', data.iloc[0]['completion'])"
      ],
      "metadata": {
        "id": "FS8LptbFOeeZ",
        "colab": {
          "base_uri": "https://localhost:8080/"
        },
        "outputId": "c51d4a06-09ea-46d3-a758-831ed4e6f954"
      },
      "execution_count": null,
      "outputs": [
        {
          "output_type": "stream",
          "name": "stdout",
          "text": [
            "Prompt: What is it DataRoot Labs?\n",
            "Completion:  DataRoot Labs is a full-service Data Science & Artificial Intelligence R&D company with main focus on Big Data Management & Strategy Consulting, Data Science & Engineering.DataRoot Labs consists of AI, HighLoad and Science teams — geeks, really good at building & assembling AI-Enabled solutions & Infrastructures, complex scientific R&D.AI Lab delivers to our partners and clients the unique value leveraging Deep Learning, Computer Vision, NLP, Advanced Scoring Models\n"
          ]
        }
      ]
    },
    {
      "cell_type": "markdown",
      "source": [
        "Our dataset have such view:\n",
        "```\n",
        "{\"prompt\": \"<question>\", \"completion\": \"<ideal answer>\"}\n",
        "{\"prompt\": \"<question>\", \"completion\": \"<ideal answer>\"}\n",
        "{\"prompt\": \"<question>\", \"completion\": \"<ideal answer>\"}\n",
        "```"
      ],
      "metadata": {
        "id": "F1belwM1V-Pf"
      }
    },
    {
      "cell_type": "markdown",
      "source": [
        "But the our dataset should be of the following format:\n",
        "\n",
        "```\n",
        "{\"messages\":[{\"role\": \"system\", \"content\": \"You are a helpful assistant.\"}, {\"role\": \"user\", \"content\": \"Hello!\"}, {\"role\": \"assistant\", \"content\": \"Hello! How can I assist you today?\"}]}\n",
        "{\"messages\":[{\"role\": \"system\", \"content\": \"You are a helpful assistant.\"}, {\"role\": \"user\", \"content\": \"What's the weather today?\"}, {\"role\": \"assistant\", \"content\": \"The weather is sunny and warm today.\"}]}\n",
        "```\n",
        "and saved in `.jsonl` format file."
      ],
      "metadata": {
        "id": "oyvJ3ZDBwpFi"
      }
    },
    {
      "cell_type": "markdown",
      "source": [
        "### Create a **JSONL** file to fine tune it.\n",
        "\n",
        "> Task:\n",
        "- create a jsonl file with the correct format"
      ],
      "metadata": {
        "id": "D7s4TT_FWY3A"
      }
    },
    {
      "cell_type": "code",
      "source": [
        "# VALIDATION_FIELD[str] Create_fine_tune_jsonl\n",
        "\n",
        "csv_file_path = 'QA_DataRoot_Labs.csv'\n",
        "jsonl_file_path = 'QA_DataRoot_Labs_chat.jsonl'\n",
        "\n",
        "with open(csv_file_path, mode='r', encoding='utf-8') as csv_file, open(jsonl_file_path, mode='w', encoding='utf-8') as jsonl_file:\n",
        "    csv_reader = csv.DictReader(csv_file)\n",
        "    for row in csv_reader:\n",
        "        ### START CODE HERE ###\n",
        "\n",
        "        json_record = {\"messages\": [{\"role\": \"system\", \"content\": \"You are a helpful assistant.\"},\n",
        "                                    {\"role\": \"user\", \"content\": row[\"prompt\"]},\n",
        "                                    {\"role\": \"assistant\", \"content\": row[\"completion\"]}]}\n",
        "        ### END CODE HERE ###\n",
        "        jsonl_file.write(json.dumps(json_record, ensure_ascii=False) + '\\n')"
      ],
      "metadata": {
        "id": "60Mg6-MFV9dQ"
      },
      "execution_count": null,
      "outputs": []
    },
    {
      "cell_type": "markdown",
      "source": [
        "Check data formatting"
      ],
      "metadata": {
        "id": "UoJs40_mzO5_"
      }
    },
    {
      "cell_type": "code",
      "source": [
        "# VALIDATION_FIELD[str] Test_jsonl_file\n",
        "\n",
        "# Load the dataset\n",
        "with open(jsonl_file_path, 'r', encoding='utf-8') as f:\n",
        "    dataset = [json.loads(line) for line in f]\n",
        "\n",
        "# Initial dataset stats\n",
        "print(\"Num examples:\", len(dataset))\n",
        "print(\"First example:\")\n",
        "for message in dataset[0][\"messages\"]:\n",
        "    print(message)"
      ],
      "metadata": {
        "id": "DKMwpkNeksPU",
        "colab": {
          "base_uri": "https://localhost:8080/"
        },
        "outputId": "917a452f-252d-4a93-e13a-13742dd0499b"
      },
      "execution_count": null,
      "outputs": [
        {
          "output_type": "stream",
          "name": "stdout",
          "text": [
            "Num examples: 36\n",
            "First example:\n",
            "{'role': 'system', 'content': 'You are a helpful assistant.'}\n",
            "{'role': 'user', 'content': 'What is it DataRoot Labs?'}\n",
            "{'role': 'assistant', 'content': ' DataRoot Labs is a full-service Data Science & Artificial Intelligence R&D company with main focus on Big Data Management & Strategy Consulting, Data Science & Engineering.DataRoot Labs consists of AI, HighLoad and Science teams — geeks, really good at building & assembling AI-Enabled solutions & Infrastructures, complex scientific R&D.AI Lab delivers to our partners and clients the unique value leveraging Deep Learning, Computer Vision, NLP, Advanced Scoring Models'}\n"
          ]
        }
      ]
    },
    {
      "cell_type": "markdown",
      "source": [
        "Expected output:\n",
        "\n",
        "```\n",
        "Num examples: 36\n",
        "First example:\n",
        "{'role': 'user', 'content': 'What is it DataRoot Labs?'}\n",
        "{'role': 'assistant', 'content': ' DataRoot Labs is a full-service Data Science & Artificial Intelligence R&D company with main focus on Big Data Management & Strategy Consulting, Data Science & Engineering.DataRoot Labs consists of AI, HighLoad and Science teams — geeks, really good at building & assembling AI-Enabled solutions & Infrastructures, complex scientific R&D.AI Lab delivers to our partners and clients the unique value leveraging Deep Learning, Computer Vision, NLP, Advanced Scoring Models'}\n",
        "```"
      ],
      "metadata": {
        "id": "nkUUzj8ZsSfe"
      }
    },
    {
      "cell_type": "markdown",
      "source": [
        "### **Upload a training file**\n",
        "\n",
        "Once you have the data validated, the file needs to be uploaded using the [Files API](https://platform.openai.com/docs/api-reference/files/create) in order to be used with a fine-tuning jobs:\n",
        "\n",
        "> **Task:**\n",
        "1. Use the `client.files.create` method to upload the file.\n",
        "2. Set the purpose parameter to `fine-tune`."
      ],
      "metadata": {
        "id": "yta0ZNfr0G5O"
      }
    },
    {
      "cell_type": "code",
      "source": [
        "# VALIDATION_FIELD[str] Upload_training_file\n",
        "\n",
        "### START CODE HERE ###\n",
        "upload_file = client.files.create(file=open(jsonl_file_path, \"rb\"),\n",
        "                                  purpose=\"fine-tune\")\n",
        "### END CODE HERE ###\n",
        "\n",
        "file_id = upload_file.id"
      ],
      "metadata": {
        "id": "Q686FVbbtVum"
      },
      "execution_count": null,
      "outputs": []
    },
    {
      "cell_type": "markdown",
      "source": [
        "### **Create a fine-tuned model**\n",
        "\n",
        "After ensuring you have the right amount and structure for your dataset, and have uploaded the file, the next step is to create a fine-tuning job. We support creating fine-tuning jobs via the [fine-tuning UI](https://platform.openai.com/finetune) or programmatically.\n",
        "\n",
        "\n",
        "> **Task:**\n",
        "1. Use the `client.fine_tuning.jobs.create` method to create a fine-tuning job.\n",
        "2. Set the `training_file` parameter to the file_id obtained from the file upload.\n",
        "3. Set the model parameter to `\"gpt-3.5-turbo\"`."
      ],
      "metadata": {
        "id": "OWSOIayp0qh5"
      }
    },
    {
      "cell_type": "code",
      "source": [
        "# VALIDATION_FIELD[str] Create_job\n",
        "\n",
        "### START CODE HERE ###\n",
        "create_job = client.fine_tuning.jobs.create(training_file=file_id,\n",
        "                                            model=\"gpt-3.5-turbo\")\n",
        "### END CODE HERE ###\n",
        "\n",
        "job_id = create_job.id"
      ],
      "metadata": {
        "id": "hlkwDaHztosr"
      },
      "execution_count": null,
      "outputs": []
    },
    {
      "cell_type": "markdown",
      "source": [
        "### **Use a fine-tuned model**\n",
        "\n",
        "When a job has succeeded, you will see the fine_tuned_model field populated with the name of the model when you retrieve the job details. You may now specify this model as a parameter to in the [Chat Completions](https://platform.openai.com/docs/api-reference/chat).\n",
        "\n",
        "After your job is completed, the model should be available right away for inference use. In some cases, it may take several minutes for your model to become ready to handle requests. If requests to your model time out or the model name cannot be found, it is likely because your model is still being loaded. If this happens, try again in a few minutes.\n",
        "\n",
        ">**Task:**\n",
        "Find your model in [playground ChatGPT](https://platform.openai.com/finetune) and put the name to reference code:"
      ],
      "metadata": {
        "id": "y4S1wnpt5xNU"
      }
    },
    {
      "cell_type": "code",
      "source": [
        "# VALIDATION_FIELD[str] Reference_fine_tune_model\n",
        "### START CODE HERE ###\n",
        "fine_tuned_model_name = \"ft:gpt-3.5-turbo-0125:python::9rMs9LHV\"\n",
        "### END CODE HERE ###\n",
        "\n",
        "completion = client.chat.completions.create(\n",
        "  model=fine_tuned_model_name,\n",
        "  messages=[\n",
        "    {\"role\": \"system\", \"content\": \"You are a helpful assistant.\"},\n",
        "    {\"role\": \"user\", \"content\": \"Where is DataRoot Labs headquartered?\"}\n",
        "  ]\n",
        ")\n",
        "\n",
        "print(completion.choices[0].message.content)"
      ],
      "metadata": {
        "id": "8593f-82vYZf",
        "colab": {
          "base_uri": "https://localhost:8080/"
        },
        "outputId": "5e1475a1-ce6b-4008-86fc-6eea1f7fb1a7"
      },
      "execution_count": null,
      "outputs": [
        {
          "output_type": "stream",
          "name": "stdout",
          "text": [
            "DataRoot Labs is headquartered in Kyiv, Ukraine.\n"
          ]
        }
      ]
    },
    {
      "cell_type": "markdown",
      "source": [
        "Expected output:\n",
        "```\n",
        "DataRoot Labs is headquarted in Kyiv, Ukraine.\n",
        "```"
      ],
      "metadata": {
        "id": "JqcRfR0m52a9"
      }
    },
    {
      "cell_type": "markdown",
      "source": [
        "## Conclusion\n",
        "As we can see, our model fits well the hypothesis function to the data.\n",
        "\n",
        "What's next:\n",
        "- Try experimenting with GPT models and prompt\n",
        "- Using OpenAI API try text to image DALL·E or speech to text Whisper models.\n",
        "- Fine-tune own model using another QA dataset.\n",
        "\n",
        "Make sure that you didn't add or delete any notebook cells. Otherwise your work may not be accepted by the validator!"
      ],
      "metadata": {
        "id": "xTFgt4klB7Km"
      }
    }
  ]
}